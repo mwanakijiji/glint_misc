{
 "cells": [
  {
   "cell_type": "code",
   "execution_count": null,
   "id": "9e06410e",
   "metadata": {},
   "outputs": [],
   "source": [
    "# Solves for beam waist, or focal length, given beam expansion in substrate"
   ]
  },
  {
   "cell_type": "code",
   "execution_count": 14,
   "id": "1f1adbba",
   "metadata": {},
   "outputs": [],
   "source": [
    "import numpy as np\n",
    "import astropy.units as u"
   ]
  },
  {
   "cell_type": "code",
   "execution_count": 15,
   "id": "773207f2",
   "metadata": {},
   "outputs": [],
   "source": [
    "# z as function of beam waist, without far-field approximation\n",
    "# (e.g., inversion of Eqn. 22-24 in Pedrotti+ 'Intro to Optics')\n",
    "\n",
    "def z_foc(wavel,w0,w_z):\n",
    "    '''\n",
    "    wavel: wavelength in material\n",
    "    w0: beam waist (radius; 'spot size') at origin\n",
    "    w_z: beam waist at z; w(z)\n",
    "    z: position\n",
    "    '''\n",
    "    \n",
    "    return np.divide(np.pi*w0**2,wavel) * np.sqrt( np.power(w_z/w0,2.) - 1 )"
   ]
  },
  {
   "cell_type": "code",
   "execution_count": 19,
   "id": "df479db5",
   "metadata": {},
   "outputs": [],
   "source": [
    "def rad_dark(wavel,f,D):\n",
    "    '''\n",
    "    wavel: wavelength in material\n",
    "    f: focal length in material\n",
    "    D: diameter of lens\n",
    "    '''\n",
    "    \n",
    "    return 1.22*wavel*f/D"
   ]
  },
  {
   "cell_type": "markdown",
   "id": "9ba77fd8",
   "metadata": {},
   "source": [
    "### Focal length of lens (in substrate of index n) to fit beam waists"
   ]
  },
  {
   "cell_type": "code",
   "execution_count": 18,
   "id": "c8eb1b67",
   "metadata": {},
   "outputs": [
    {
     "name": "stdout",
     "output_type": "stream",
     "text": [
      "focal length: 284.664560439248 micron\n"
     ]
    }
   ],
   "source": [
    "n_index = 1.5255\n",
    "wavel = 1.550*u.micron/n_index\n",
    "\n",
    "foc = z_foc(wavel=wavel,w0=(5.6/2.)*u.micron,w_z=(66./2.)*u.micron)\n",
    "print('focal length:',foc)"
   ]
  },
  {
   "cell_type": "markdown",
   "id": "a8aabdc3",
   "metadata": {},
   "source": [
    "### Radius of first dark Airy ring"
   ]
  },
  {
   "cell_type": "code",
   "execution_count": 21,
   "id": "1cdc7d21",
   "metadata": {},
   "outputs": [
    {
     "name": "stdout",
     "output_type": "stream",
     "text": [
      "radius: 5.34649030909506 micron\n"
     ]
    }
   ],
   "source": [
    "radius = rad_dark(wavel,f=foc,D=66.*u.micron)\n",
    "\n",
    "print('radius:',radius)"
   ]
  },
  {
   "cell_type": "code",
   "execution_count": null,
   "id": "6aca5e0f",
   "metadata": {},
   "outputs": [],
   "source": []
  }
 ],
 "metadata": {
  "kernelspec": {
   "display_name": "Python 3 (ipykernel)",
   "language": "python",
   "name": "python3"
  },
  "language_info": {
   "codemirror_mode": {
    "name": "ipython",
    "version": 3
   },
   "file_extension": ".py",
   "mimetype": "text/x-python",
   "name": "python",
   "nbconvert_exporter": "python",
   "pygments_lexer": "ipython3",
   "version": "3.10.9"
  }
 },
 "nbformat": 4,
 "nbformat_minor": 5
}
