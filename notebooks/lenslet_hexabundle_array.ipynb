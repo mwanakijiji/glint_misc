{
 "cells": [
  {
   "cell_type": "code",
   "execution_count": 1,
   "metadata": {},
   "outputs": [],
   "source": [
    "import matplotlib.pyplot as plt\n",
    "import Hexgrids\n",
    "import numpy as np\n",
    "from stl import mesh\n",
    "from mpl_toolkits import mplot3d\n",
    "from mpl_toolkits.mplot3d import Axes3D\n",
    "\n",
    "%matplotlib qt"
   ]
  },
  {
   "cell_type": "code",
   "execution_count": 2,
   "metadata": {},
   "outputs": [],
   "source": [
    "stem = '/Users/bandari/Documents/postdoc_sydney/misc/'\n",
    "file_name = 'ips_nanoscribe_hexabundle_proj_20240508.STL'"
   ]
  },
  {
   "cell_type": "code",
   "execution_count": 3,
   "metadata": {},
   "outputs": [
    {
     "name": "stdout",
     "output_type": "stream",
     "text": [
      "exception (False, \"b'\\\\xcf=\\\\xe5\\\\xd0:1\\\\x968\\\\xf2<\\\\x88~\\\\xd1=\\\\xe5\\\\xd0:1eg\\\\x03=\\\\x00\\\\x00\\\\x00\\\\x00\\\\x00\\\\x00\\\\x00\\\\x00\\\\x80\\\\xbf\\\\x00\\\\x00\\\\x00\\\\x00\\\\xc9\\\\xff[=\\\\xe5\\\\xd0:1\\\\xc9\\\\xff[=\\\\x9eq\\\\xcc=\\\\xe5\\\\xd0:1h-\\\\xde<\\\\x1e' should start with b'facet normal'\")\n"
     ]
    },
    {
     "data": {
      "text/plain": [
       "\"\\nfigure = plt.figure()\\naxes = figure.add_subplot(projection='3d')\\n\\naxes.add_collection3d(mplot3d.art3d.Poly3DCollection(your_mesh.vectors))\\n\\n# Auto scale to the mesh size\\nscale = your_mesh.points.flatten()\\naxes.auto_scale_xyz(scale, scale, scale)\\n\\naxes.view_init(90, 90, 90)\\n\\n# Show the plot to the screen\\n#plt.show()\\n\""
      ]
     },
     "execution_count": 3,
     "metadata": {},
     "output_type": "execute_result"
    }
   ],
   "source": [
    "# Load the STL file\n",
    "your_mesh = mesh.Mesh.from_file(stem + file_name)\n",
    "\n",
    "# plot\n",
    "'''\n",
    "figure = plt.figure()\n",
    "axes = figure.add_subplot(projection='3d')\n",
    "\n",
    "axes.add_collection3d(mplot3d.art3d.Poly3DCollection(your_mesh.vectors))\n",
    "\n",
    "# Auto scale to the mesh size\n",
    "scale = your_mesh.points.flatten()\n",
    "axes.auto_scale_xyz(scale, scale, scale)\n",
    "\n",
    "axes.view_init(90, 90, 90)\n",
    "\n",
    "# Show the plot to the screen\n",
    "#plt.show()\n",
    "'''"
   ]
  },
  {
   "cell_type": "code",
   "execution_count": 4,
   "metadata": {},
   "outputs": [],
   "source": [
    "# Generate 61 different meshes so we can rotate them later\n",
    "meshes = [your_mesh for _ in range(61)]"
   ]
  },
  {
   "cell_type": "code",
   "execution_count": 40,
   "metadata": {},
   "outputs": [],
   "source": [
    "# make hexagonal points where the lenslets will be\n",
    "\n",
    "points = Hexgrids.FiniteHexGrid(grid_spacing=10, rotation=0, origin=(0,0), hexagonal_radius=4)\n",
    "coords = points.all_xy_points() # coords[:,0] are x; coords[:,1] are y"
   ]
  },
  {
   "cell_type": "code",
   "execution_count": 6,
   "metadata": {},
   "outputs": [],
   "source": [
    "# translation function\n",
    "def translate(_solid, del_x, del_y, del_z=0):\n",
    "    _solid.x += del_x\n",
    "    _solid.y += del_y\n",
    "    _solid.z += del_z\n",
    "\n",
    "    return _solid"
   ]
  },
  {
   "cell_type": "code",
   "execution_count": 7,
   "metadata": {},
   "outputs": [],
   "source": [
    "def combined_stl(meshes, save_path=\"./combined.stl\"):\n",
    "    combined = mesh.Mesh(np.concatenate([m.data for m in meshes]))\n",
    "    combined.save(save_path, mode=stl.Mode.ASCII)"
   ]
  },
  {
   "cell_type": "code",
   "execution_count": 17,
   "metadata": {},
   "outputs": [],
   "source": [
    "# translate lenslets\n",
    "for lenslet_num in range(0,len(meshes)):\n",
    "    \n",
    "    meshes[lenslet_num] = translate(meshes[lenslet_num], del_x=coords[lenslet_num,0], del_y=coords[lenslet_num,1], del_z=0)"
   ]
  },
  {
   "cell_type": "code",
   "execution_count": 39,
   "metadata": {},
   "outputs": [],
   "source": [
    "figure = plt.figure()\n",
    "axes = figure.add_subplot(projection='3d')\n",
    "\n",
    "\n",
    "\n",
    "#axes.add_collection3d(mplot3d.art3d.Poly3DCollection(meshes[0].vectors))\n",
    "\n",
    "for m in meshes:\n",
    "    axes.add_collection3d(mplot3d.art3d.Poly3DCollection(m.vectors))\n",
    "\n",
    "# Auto scale to the mesh size\n",
    "#scale = meshes[0].points.flatten()\n",
    "axes.set_xlim([-5,5])\n",
    "axes.set_ylim([-5,5])\n",
    "axes.set_zlim([-5,5])\n",
    "#axes.auto_scale_xyz(scale, scale, scale)\n",
    "\n",
    "axes.view_init(0, 90, 0)\n",
    "axes.set_box_aspect([1, 1, 1])\n",
    "\n",
    "plt.show()"
   ]
  },
  {
   "cell_type": "code",
   "execution_count": 19,
   "metadata": {},
   "outputs": [],
   "source": [
    "# translate each one to a different (x,y) coord\n",
    "#[ print(meshes[1].x) for x_coord in test2[:,0] ]\n",
    "#[ meshes[1].x += x_coord for x_coord in test2[:,0] ]\n",
    "#meshes[1].y += 2\n",
    "#print(meshes[1].y.shape)\n",
    "#print(meshes[1].x)\n",
    "#print(meshes[1].y)\n",
    "\n",
    "figure = plt.figure()\n",
    "axes = figure.add_subplot(projection='3d')\n",
    "\n",
    "# Render the lenslets\n",
    "\n",
    "for m in meshes:\n",
    "    axes.add_collection3d(mplot3d.art3d.Poly3DCollection(m.vectors))\n",
    "\n",
    "# Auto scale to the mesh size\n",
    "scale = np.concatenate([m.points for m in meshes]).flatten()\n",
    "axes.auto_scale_xyz(scale, scale, scale)\n",
    "\n",
    "# Show the plot to the screen\n",
    "plt.show()\n"
   ]
  },
  {
   "cell_type": "code",
   "execution_count": 22,
   "metadata": {},
   "outputs": [],
   "source": [
    "plt.scatter(coords[:,0], coords[:,1])\n",
    "plt.show()"
   ]
  },
  {
   "cell_type": "code",
   "execution_count": 37,
   "metadata": {},
   "outputs": [],
   "source": [
    "from stl import mesh\n",
    "import math\n",
    "import numpy\n",
    "\n",
    "# Create 3 faces of a cube\n",
    "data = numpy.zeros(6, dtype=mesh.Mesh.dtype)\n",
    "\n",
    "# Top of the cube\n",
    "data['vectors'][0] = numpy.array([[0, 1, 1],\n",
    "                                  [1, 0, 1],\n",
    "                                  [0, 0, 1]])\n",
    "data['vectors'][1] = numpy.array([[1, 0, 1],\n",
    "                                  [0, 1, 1],\n",
    "                                  [1, 1, 1]])\n",
    "# Front face\n",
    "data['vectors'][2] = numpy.array([[1, 0, 0],\n",
    "                                  [1, 0, 1],\n",
    "                                  [1, 1, 0]])\n",
    "data['vectors'][3] = numpy.array([[1, 1, 1],\n",
    "                                  [1, 0, 1],\n",
    "                                  [1, 1, 0]])\n",
    "# Left face\n",
    "data['vectors'][4] = numpy.array([[0, 0, 0],\n",
    "                                  [1, 0, 0],\n",
    "                                  [1, 0, 1]])\n",
    "data['vectors'][5] = numpy.array([[0, 0, 0],\n",
    "                                  [0, 0, 1],\n",
    "                                  [1, 0, 1]])\n",
    "\n",
    "# Since the cube faces are from 0 to 1 we can move it to the middle by\n",
    "# substracting .5\n",
    "data['vectors'] -= .5\n",
    "\n",
    "# Generate 4 different meshes so we can rotate them later\n",
    "meshes = [mesh.Mesh(data.copy()) for _ in range(4)]\n",
    "\n",
    "# Rotate 90 degrees over the Y axis\n",
    "meshes[0].rotate([0.0, 0.5, 0.0], math.radians(90))\n",
    "\n",
    "# Translate 2 points over the X axis\n",
    "meshes[1].x += 2\n",
    "\n",
    "# Rotate 90 degrees over the X axis\n",
    "meshes[2].rotate([0.5, 0.0, 0.0], math.radians(90))\n",
    "# Translate 2 points over the X and Y points\n",
    "meshes[2].x += 2\n",
    "meshes[2].y += 2\n",
    "\n",
    "# Rotate 90 degrees over the X and Y axis\n",
    "meshes[3].rotate([0.5, 0.0, 0.0], math.radians(90))\n",
    "meshes[3].rotate([0.0, 0.5, 0.0], math.radians(90))\n",
    "# Translate 2 points over the Y axis\n",
    "meshes[3].y += 2\n",
    "\n",
    "\n",
    "# Optionally render the rotated cube faces\n",
    "from matplotlib import pyplot\n",
    "from mpl_toolkits import mplot3d\n",
    "\n",
    "# Create a new plot\n",
    "figure = pyplot.figure()\n",
    "axes = figure.add_subplot(projection='3d')\n",
    "\n",
    "# Render the cube faces\n",
    "for m in meshes:\n",
    "    axes.add_collection3d(mplot3d.art3d.Poly3DCollection(m.vectors))\n",
    "\n",
    "# Auto scale to the mesh size\n",
    "scale = numpy.concatenate([m.points for m in meshes]).flatten()\n",
    "axes.auto_scale_xyz(scale, scale, scale)\n",
    "\n",
    "# Show the plot to the screen\n",
    "pyplot.show()"
   ]
  }
 ],
 "metadata": {
  "kernelspec": {
   "display_name": "glint_env",
   "language": "python",
   "name": "python3"
  },
  "language_info": {
   "codemirror_mode": {
    "name": "ipython",
    "version": 3
   },
   "file_extension": ".py",
   "mimetype": "text/x-python",
   "name": "python",
   "nbconvert_exporter": "python",
   "pygments_lexer": "ipython3",
   "version": "3.10.9"
  }
 },
 "nbformat": 4,
 "nbformat_minor": 2
}
