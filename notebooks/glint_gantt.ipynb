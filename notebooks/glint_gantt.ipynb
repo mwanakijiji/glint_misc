{
 "cells": [
  {
   "cell_type": "code",
   "execution_count": null,
   "id": "4fe3c677",
   "metadata": {},
   "outputs": [],
   "source": [
    "# Makes Gantt chart for the GLINT project\n",
    "\n",
    "# Created 2023 May 24 by E.S."
   ]
  },
  {
   "cell_type": "code",
   "execution_count": 1,
   "id": "e5266b06",
   "metadata": {},
   "outputs": [],
   "source": [
    "import plotly.express as px\n",
    "import pandas as pd"
   ]
  },
  {
   "cell_type": "code",
   "execution_count": 18,
   "id": "5268d7df",
   "metadata": {},
   "outputs": [],
   "source": [
    "df = pd.DataFrame([\n",
    "    dict(Task=\"Chip design (MQU)\", Start='2023-05-24', Finish='2023-07-24', Resource='(standalone)'), # 2 mos\n",
    "    dict(Task=\"Substrates shipped (UQG to Opto-Line)\", Start='2023-05-26', Finish='2023-06-02', Resource='substrate'), # 1 wk\n",
    "    dict(Task=\"Masks made (Opto-Line)\", Start='2023-06-02', Finish='2023-07-06', Resource='substrate'), # 5 wks ARO [quote]\n",
    "    dict(Task=\"Masks shipped (Opto-Line to USYD)\", Start='2023-07-07', Finish='2023-07-14', Resource='substrate'), # 1 wk\n",
    "    dict(Task=\"Mask dicing (MQU)\", Start='2023-07-16', Finish='2023-07-20', Resource='substrate'), \n",
    "    dict(Task=\"Diced masks shipped (MQU to UQ)\", Start='2023-07-21', Finish='2023-07-28', Resource='substrate'), # 1 wk\n",
    "    dict(Task=\"Lens printing (UQ)\", Start='2023-07-29', Finish='2023-08-29', Resource='substrate'), # 4 wks [Jane]\n",
    "    dict(Task=\"Mask+MLAs shipped (UQ to USYD)\", Start='2023-08-29', Finish='2023-09-01', Resource='substrate'),\n",
    "    dict(Task=\"Testing Mask+MLAs (USYD)\", Start='2023-09-01', Finish='2023-09-14', Resource='substrate'), # 2 wks\n",
    "    dict(Task=\"Hexapod+optics lead time (USYD)\", Start='2023-05-30', Finish='2023-07-30', Resource='testbench'), # 2 mos\n",
    "    dict(Task=\"Testbench setup (USYD)\", Start='2023-08-01', Finish='2023-08-20', Resource='testbench')\n",
    "])\n",
    "\n",
    "date1 = '2023-07-10'\n",
    "date2 = '2023-07-17'\n",
    "fig = px.timeline(df, x_start=\"Start\", x_end=\"Finish\", y=\"Task\", color=\"Resource\")\n",
    "fig.update_yaxes(autorange=\"reversed\") # otherwise tasks are listed from the bottom up\n",
    "fig.add_vline(x=date1, line_width=2, line_color=\"black\")\n",
    "fig.add_vline(x=date2, line_width=2, line_color=\"black\")\n",
    "fig.update_layout(width=1500,height=600)\n",
    "fig.update_xaxes(\n",
    "    dtick=\"M1\",\n",
    "    tickformat=\"%b\\n%Y\")\n",
    "#fig.show()\n",
    "fig.write_image('junk_glint.png')"
   ]
  },
  {
   "cell_type": "code",
   "execution_count": 19,
   "id": "c9f977c0",
   "metadata": {},
   "outputs": [],
   "source": [
    "df_dirac = pd.DataFrame([\n",
    "    dict(Task=\"Check equipment (USYD)\", Start='2023-05-24', Finish='2023-05-25', Resource='equipment'),\n",
    "    dict(Task=\"Check equipment (AAO)\", Start='2023-05-25', Finish='2023-06-08', Resource='equipment'),\n",
    "    dict(Task=\"Parts lead time\", Start='2023-06-15', Finish='2023-08-15', Resource='equipment'),\n",
    "    dict(Task=\"Proto-testbench setup (USYD)\", Start='2023-08-15', Finish='2023-08-22', Resource='testbench'),\n",
    "    dict(Task=\"Testbench setup (AAO)\", Start='2023-08-24', Finish='2023-09-07', Resource='testbench'),\n",
    "    dict(Task=\"Testing (AAO)\", Start='2023-09-07', Finish='2023-10-01', Resource='testing'),\n",
    "    dict(Task=\"Whole instrument testing (AAO)\", Start='2023-10-01', Finish='2023-11-01', Resource='high level proj'),\n",
    "    dict(Task=\"Delivery Readiness Review (AAO)\", Start='2023-11-01', Finish='2023-11-30', Resource='high level proj'),\n",
    "    dict(Task=\"Installation (DAG)\", Start='2024-04-01', Finish='2024-05-31', Resource='high level proj')\n",
    "])\n",
    "\n",
    "date1 = '2023-07-10'\n",
    "date2 = '2023-07-17'\n",
    "fig = px.timeline(df_dirac, x_start=\"Start\", x_end=\"Finish\", y=\"Task\", color=\"Resource\")\n",
    "fig.update_yaxes(autorange=\"reversed\") # otherwise tasks are listed from the bottom up\n",
    "fig.add_vline(x=date1, line_width=2, line_color=\"black\")\n",
    "fig.add_vline(x=date2, line_width=2, line_color=\"black\")\n",
    "fig.update_layout(width=1500,height=600)\n",
    "fig.update_xaxes(\n",
    "    dtick=\"M1\",\n",
    "    tickformat=\"%b\\n%Y\")\n",
    "#fig.show()\n",
    "fig.write_image('junk_dirac.png')"
   ]
  },
  {
   "cell_type": "code",
   "execution_count": null,
   "id": "433faa7e",
   "metadata": {},
   "outputs": [],
   "source": []
  }
 ],
 "metadata": {
  "kernelspec": {
   "display_name": "Python 3 (ipykernel)",
   "language": "python",
   "name": "python3"
  },
  "language_info": {
   "codemirror_mode": {
    "name": "ipython",
    "version": 3
   },
   "file_extension": ".py",
   "mimetype": "text/x-python",
   "name": "python",
   "nbconvert_exporter": "python",
   "pygments_lexer": "ipython3",
   "version": "3.10.9"
  }
 },
 "nbformat": 4,
 "nbformat_minor": 5
}
