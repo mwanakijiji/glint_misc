{
 "cells": [
  {
   "cell_type": "code",
   "execution_count": 1,
   "id": "4fe3c677",
   "metadata": {},
   "outputs": [],
   "source": [
    "# Makes Gantt chart for the GLINT project\n",
    "\n",
    "# Created 2023 May 24 by E.S."
   ]
  },
  {
   "cell_type": "code",
   "execution_count": 1,
   "id": "e5266b06",
   "metadata": {},
   "outputs": [],
   "source": [
    "import plotly.express as px\n",
    "import pandas as pd\n",
    "\n",
    "%matplotlib inline"
   ]
  },
  {
   "cell_type": "code",
   "execution_count": 28,
   "id": "5268d7df",
   "metadata": {},
   "outputs": [],
   "source": [
    "# GLINT\n",
    "\n",
    "df = pd.DataFrame([\n",
    "    dict(Task=\"Lens printing (UQ)\", Start='2023-11-01', Finish='2023-11-15', Resource='substrate'), # 4 wks [Jane]\n",
    "    dict(Task=\"Mask+MLAs shipped (UQ to MQU)\", Start='2023-11-15', Finish='2023-11-19', Resource='substrate'),\n",
    "    dict(Task=\"Chip writing (MQU)\", Start='2023-11-01', Finish='2023-11-15', Resource='substrate'),\n",
    "    \n",
    "    dict(Task=\"Thorlabs shipment 1 (USYD)\", Start='2023-11-01', Finish='2023-11-07', Resource='optomech'),\n",
    "    dict(Task=\"Edmund shipment 1 (USYD)\", Start='2023-11-01', Finish='2023-11-15', Resource='optomech'),\n",
    "    dict(Task=\"Newspec shipment (USYD)\", Start='2023-11-01', Finish='2023-11-27', Resource='optomech'),\n",
    "    dict(Task=\"Thorlabs shipment 2 (USYD)\", Start='2023-11-14', Finish='2023-11-28', Resource='optomech'),\n",
    "    \n",
    "    dict(Task=\"Bracket design (USYD)\", Start='2023-11-01', Finish='2023-11-11', Resource='optomech'),\n",
    "    dict(Task=\"Control code writing (USYD)\", Start='2023-11-11', Finish='2023-12-01', Resource='optomech'),\n",
    "    dict(Task=\"Bracket machining (USYD)\", Start='2023-11-13', Finish='2023-12-04', Resource='optomech'),\n",
    "    dict(Task=\"Stage assembly (USYD)\", Start='2023-12-01', Finish='2023-12-20', Resource='optomech'),\n",
    "    \n",
    "    \n",
    "    dict(Task=\"Testing Mask+MLAs (MQU)\", Start='2023-11-15', Finish='2023-11-30', Resource='substrate'), # 2 wks\n",
    "    dict(Task=\"HOLIDAYS\", Start='2023-12-21', Finish='2024-01-02', Resource='holiday'),\n",
    "    dict(Task=\"GLINT removal (Subaru)\", Start='2024-01-04', Finish='2024-01-05', Resource='subaru'), # 2 wks\n",
    "    dict(Task=\"Upgrade of DM, lens, mask in lab (Hilo)\", Start='2024-01-05', Finish='2024-01-30', Resource='subaru'), # 2 wks\n",
    "    dict(Task=\"GLINT reinstallation (Subaru)\", Start='2024-01-30', Finish='2024-02-01', Resource='subaru'), # 2 wks\n",
    "    dict(Task=\"On-sky testing (Subaru)\", Start='2024-02-01', Finish='2024-02-28', Resource='subaru')\n",
    "])\n",
    "\n",
    "\n",
    "fig = px.timeline(df, x_start=\"Start\", x_end=\"Finish\", y=\"Task\", color=\"Resource\")\n",
    "fig.update_yaxes(autorange=\"reversed\") # otherwise tasks are listed from the bottom up\n",
    "\n",
    "#############\n",
    "# current week\n",
    "date1 = '2023-10-30'\n",
    "date2 = '2023-11-05'\n",
    "fig.add_vline(x=date1, line_width=2, line_color=\"black\")\n",
    "fig.add_vline(x=date2, line_width=2, line_color=\"black\")\n",
    "\n",
    "fig.add_annotation(\n",
    "    x='2023-10-30',  # x-coordinate of the annotation\n",
    "    y=-2,           # y-coordinate of the annotation (Task 1)\n",
    "    text='Week of Oct. 30',  # Text to be displayed in the annotation\n",
    "    showarrow=False,\n",
    "    arrowhead=1,\n",
    "    ax=0,\n",
    "    ay=-40\n",
    ")\n",
    "#############\n",
    "\n",
    "# SCExAO observing runs\n",
    "date_scexao1s = '2023-09-25'\n",
    "date_scexao1e = '2023-09-27'\n",
    "date_scexao2s = '2023-10-22'\n",
    "date_scexao2e = '2023-10-28'\n",
    "date_scexao3s = '2023-11-02'\n",
    "date_scexao3e = '2023-11-07'\n",
    "date_scexao4s = '2023-11-19'\n",
    "date_scexao4e = '2023-11-21'\n",
    "date_scexao5s = '2023-12-08'\n",
    "date_scexao5e = '2023-12-14'\n",
    "date_scexao6s = '2023-12-21'\n",
    "date_scexao6e = '2023-12-24'\n",
    "dates_obs_runs = [[date_scexao3s,date_scexao3e],[date_scexao4s,date_scexao4e],\n",
    "                  [date_scexao5s,date_scexao5e],[date_scexao6s,date_scexao6e]]\n",
    "\n",
    "# dates when hardware upgrades are not possible\n",
    "date_nogo1s = '2023-08-30'\n",
    "date_nogo1e = '2023-09-05'\n",
    "date_nogo2s = '2023-09-23'\n",
    "date_nogo2e = '2023-10-02'\n",
    "date_nogo3s = '2023-10-24'\n",
    "date_nogo3e = '2023-11-13'\n",
    "date_nogo4s = '2023-11-18'\n",
    "date_nogo4e = '2023-11-27'\n",
    "date_nogo5s = '2023-12-02'\n",
    "date_nogo5e = '2023-12-04'\n",
    "date_nogo6s = '2023-12-08'\n",
    "date_nogo6e = '2023-12-18'\n",
    "date_nogo7s = '2023-12-22'\n",
    "date_nogo7e = '2023-12-27'\n",
    "dates_nogo = [[date_nogo3s,date_nogo3e],[date_nogo4s,date_nogo4e],\n",
    "              [date_nogo5s,date_nogo5e],[date_nogo6s,date_nogo6e],\n",
    "              [date_nogo7s,date_nogo7e]]\n",
    "\n",
    "for i in range(0,len(dates_nogo)):\n",
    "    fig.add_shape(\n",
    "        type='rect',\n",
    "        x0=dates_nogo[i][0],\n",
    "        y0=-1,\n",
    "        x1=dates_nogo[i][1],\n",
    "        y1=16,\n",
    "        fillcolor='rgba(100, 0, 0, 0.5)',\n",
    "        line=dict(width=0),\n",
    "        layer='below'\n",
    "    )\n",
    "\n",
    "for i in range(0,len(dates_obs_runs)):\n",
    "    fig.add_shape(\n",
    "        type='rect',\n",
    "        x0=dates_obs_runs[i][0],\n",
    "        y0=-1,\n",
    "        x1=dates_obs_runs[i][1],\n",
    "        y1=16,\n",
    "        fillcolor='rgba(100, 0, 0, 1)',\n",
    "        line=dict(width=0),\n",
    "        layer='below'\n",
    "    )\n",
    "\n",
    "for i in range(0,16):\n",
    "    fig.add_shape(\n",
    "        type='line',\n",
    "        x0='2023-10-24',\n",
    "        y0=i,\n",
    "        x1='2024-02-28',\n",
    "        y1=i,\n",
    "        line=dict(color='rgba(0, 0, 0, 0.2)', width=2),\n",
    "        layer='below'\n",
    "    )\n",
    "\n",
    "fig.update_layout(\n",
    "    width=1700,\n",
    "    height=600,\n",
    "    title_text=\"<b>GLINT timeline</b><br>light red: SCExAO hardware upgrades not possible; dark red: observing run\",  # Title of the Gantt chart\n",
    "    title_x=0.5,  # Position the title at the center of the chart horizontally\n",
    "    title_y=0.95,  # Position the title near the top of the chart vertically\n",
    "    yaxis=dict(\n",
    "        showgrid=False,\n",
    "        zeroline=False,\n",
    "        showline=False,\n",
    "        showticklabels=True\n",
    "    ),\n",
    "    xaxis=dict(type='date'),\n",
    "    showlegend=True,\n",
    "    margin=dict(t=100)\n",
    ")\n",
    "\n",
    "fig.update_xaxes(\n",
    "    dtick=\"M1\",\n",
    "    tickformat=\"%b\\n%Y\")\n",
    "#fig.show()\n",
    "fig.write_image('junk_glint.pdf')"
   ]
  },
  {
   "cell_type": "code",
   "execution_count": 4,
   "id": "cbf56ccc",
   "metadata": {},
   "outputs": [
    {
     "ename": "IndexError",
     "evalue": "list index out of range",
     "output_type": "error",
     "traceback": [
      "\u001b[0;31m---------------------------------------------------------------------------\u001b[0m",
      "\u001b[0;31mIndexError\u001b[0m                                Traceback (most recent call last)",
      "Cell \u001b[0;32mIn[4], line 1\u001b[0m\n\u001b[0;32m----> 1\u001b[0m \u001b[43mdates_obs_runs\u001b[49m\u001b[43m[\u001b[49m\u001b[43mi\u001b[49m\u001b[43m]\u001b[49m[\u001b[38;5;241m0\u001b[39m]\n",
      "\u001b[0;31mIndexError\u001b[0m: list index out of range"
     ]
    }
   ],
   "source": [
    "dates_obs_runs[i][0]"
   ]
  },
  {
   "cell_type": "code",
   "execution_count": 7,
   "id": "c9f977c0",
   "metadata": {},
   "outputs": [],
   "source": [
    "# DIRAC\n",
    "\n",
    "df_dirac = pd.DataFrame([\n",
    "    dict(Task=\"Check equipment (USYD)\", Start='2023-05-24', Finish='2023-05-25', Resource='equipment'),\n",
    "    dict(Task=\"Check equipment (AAO)\", Start='2023-05-25', Finish='2023-06-08', Resource='equipment'),\n",
    "    dict(Task=\"Parts lead time\", Start='2023-06-15', Finish='2023-08-15', Resource='equipment'),\n",
    "    dict(Task=\"Proto-testbench setup (USYD)\", Start='2023-08-15', Finish='2023-08-22', Resource='testbench'),\n",
    "    dict(Task=\"Testbench setup (AAO)\", Start='2023-08-24', Finish='2023-09-07', Resource='testbench'),\n",
    "    dict(Task=\"Testing (AAO)\", Start='2023-09-07', Finish='2023-10-01', Resource='testing'),\n",
    "    dict(Task=\"Whole instrument integration and testing (AAO)\", Start='2023-10-01', Finish='2024-02-15', Resource='high level proj'),\n",
    "    dict(Task=\"Delivery Readiness Review (AAO)\", Start='2024-02-15', Finish='2024-02-16', Resource='high level proj'),\n",
    "    dict(Task=\"Pack and ship by sea (AAO->Erzurum)\", Start='2024-02-19', Finish='2024-03-25', Resource='high level proj'),\n",
    "    dict(Task=\"Installation (DAG)\", Start='2024-04-18', Finish='2024-05-02', Resource='high level proj'),\n",
    "    dict(Task=\"Commissioning (DAG)\", Start='2024-05-02', Finish='2024-05-20', Resource='high level proj')\n",
    "])\n",
    "\n",
    "date1 = '2023-08-28'\n",
    "date2 = '2023-09-03'\n",
    "fig = px.timeline(df_dirac, x_start=\"Start\", x_end=\"Finish\", y=\"Task\", color=\"Resource\")\n",
    "fig.update_yaxes(autorange=\"reversed\") # otherwise tasks are listed from the bottom up\n",
    "fig.add_vline(x=date1, line_width=2, line_color=\"black\")\n",
    "fig.add_vline(x=date2, line_width=2, line_color=\"black\")\n",
    "fig.update_layout(width=1500,height=600)\n",
    "fig.update_xaxes(\n",
    "    dtick=\"M1\",\n",
    "    tickformat=\"%b\\n%Y\")\n",
    "\n",
    "fig.update_layout(\n",
    "    width=1700,\n",
    "    height=600,\n",
    "    title_text=\"DIRAC timeline\",  # Title of the Gantt chart\n",
    "    title_x=0.5,  # Position the title at the center of the chart horizontally\n",
    "    title_y=0.95,  # Position the title near the top of the chart vertically\n",
    "    yaxis=dict(\n",
    "        showgrid=False,\n",
    "        zeroline=False,\n",
    "        showline=False,\n",
    "        showticklabels=True\n",
    "    ),\n",
    "    xaxis=dict(type='date'),\n",
    "    showlegend=False\n",
    ")\n",
    "\n",
    "#fig.show()\n",
    "fig.write_image('junk_dirac.pdf')"
   ]
  },
  {
   "cell_type": "code",
   "execution_count": 9,
   "id": "433faa7e",
   "metadata": {},
   "outputs": [
    {
     "data": {
      "application/vnd.plotly.v1+json": {
       "config": {
        "plotlyServerURL": "https://plot.ly"
       },
       "data": [
        {
         "alignmentgroup": "True",
         "base": [
          "2023-08-01T00:00:00",
          "2023-08-05T00:00:00",
          "2023-08-10T00:00:00"
         ],
         "hovertemplate": "Start=%{base}<br>End=%{x}<br>Task=%{y}<extra></extra>",
         "legendgroup": "",
         "marker": {
          "color": "#636efa",
          "pattern": {
           "shape": ""
          }
         },
         "name": "",
         "offsetgroup": "",
         "orientation": "h",
         "showlegend": false,
         "textposition": "auto",
         "type": "bar",
         "x": [
          259200000,
          259200000,
          345600000
         ],
         "xaxis": "x",
         "y": [
          "Task 1",
          "Task 2",
          "Task 3"
         ],
         "yaxis": "y"
        }
       ],
       "layout": {
        "barmode": "overlay",
        "legend": {
         "tracegroupgap": 0
        },
        "shapes": [
         {
          "fillcolor": "rgba(0, 176, 246, 0.2)",
          "layer": "below",
          "line": {
           "width": 0
          },
          "type": "rect",
          "x0": "2023-08-01T00:00:00",
          "x1": "2023-08-05T00:00:00",
          "y0": -1,
          "y1": 5
         },
         {
          "fillcolor": "rgba(0, 176, 246, 0.2)",
          "layer": "below",
          "line": {
           "width": 0
          },
          "type": "rect",
          "x0": "2023-08-05T00:00:00",
          "x1": "2023-08-10T00:00:00",
          "y0": -1,
          "y1": 5
         }
        ],
        "showlegend": false,
        "template": {
         "data": {
          "bar": [
           {
            "error_x": {
             "color": "#2a3f5f"
            },
            "error_y": {
             "color": "#2a3f5f"
            },
            "marker": {
             "line": {
              "color": "#E5ECF6",
              "width": 0.5
             },
             "pattern": {
              "fillmode": "overlay",
              "size": 10,
              "solidity": 0.2
             }
            },
            "type": "bar"
           }
          ],
          "barpolar": [
           {
            "marker": {
             "line": {
              "color": "#E5ECF6",
              "width": 0.5
             },
             "pattern": {
              "fillmode": "overlay",
              "size": 10,
              "solidity": 0.2
             }
            },
            "type": "barpolar"
           }
          ],
          "carpet": [
           {
            "aaxis": {
             "endlinecolor": "#2a3f5f",
             "gridcolor": "white",
             "linecolor": "white",
             "minorgridcolor": "white",
             "startlinecolor": "#2a3f5f"
            },
            "baxis": {
             "endlinecolor": "#2a3f5f",
             "gridcolor": "white",
             "linecolor": "white",
             "minorgridcolor": "white",
             "startlinecolor": "#2a3f5f"
            },
            "type": "carpet"
           }
          ],
          "choropleth": [
           {
            "colorbar": {
             "outlinewidth": 0,
             "ticks": ""
            },
            "type": "choropleth"
           }
          ],
          "contour": [
           {
            "colorbar": {
             "outlinewidth": 0,
             "ticks": ""
            },
            "colorscale": [
             [
              0,
              "#0d0887"
             ],
             [
              0.1111111111111111,
              "#46039f"
             ],
             [
              0.2222222222222222,
              "#7201a8"
             ],
             [
              0.3333333333333333,
              "#9c179e"
             ],
             [
              0.4444444444444444,
              "#bd3786"
             ],
             [
              0.5555555555555556,
              "#d8576b"
             ],
             [
              0.6666666666666666,
              "#ed7953"
             ],
             [
              0.7777777777777778,
              "#fb9f3a"
             ],
             [
              0.8888888888888888,
              "#fdca26"
             ],
             [
              1,
              "#f0f921"
             ]
            ],
            "type": "contour"
           }
          ],
          "contourcarpet": [
           {
            "colorbar": {
             "outlinewidth": 0,
             "ticks": ""
            },
            "type": "contourcarpet"
           }
          ],
          "heatmap": [
           {
            "colorbar": {
             "outlinewidth": 0,
             "ticks": ""
            },
            "colorscale": [
             [
              0,
              "#0d0887"
             ],
             [
              0.1111111111111111,
              "#46039f"
             ],
             [
              0.2222222222222222,
              "#7201a8"
             ],
             [
              0.3333333333333333,
              "#9c179e"
             ],
             [
              0.4444444444444444,
              "#bd3786"
             ],
             [
              0.5555555555555556,
              "#d8576b"
             ],
             [
              0.6666666666666666,
              "#ed7953"
             ],
             [
              0.7777777777777778,
              "#fb9f3a"
             ],
             [
              0.8888888888888888,
              "#fdca26"
             ],
             [
              1,
              "#f0f921"
             ]
            ],
            "type": "heatmap"
           }
          ],
          "heatmapgl": [
           {
            "colorbar": {
             "outlinewidth": 0,
             "ticks": ""
            },
            "colorscale": [
             [
              0,
              "#0d0887"
             ],
             [
              0.1111111111111111,
              "#46039f"
             ],
             [
              0.2222222222222222,
              "#7201a8"
             ],
             [
              0.3333333333333333,
              "#9c179e"
             ],
             [
              0.4444444444444444,
              "#bd3786"
             ],
             [
              0.5555555555555556,
              "#d8576b"
             ],
             [
              0.6666666666666666,
              "#ed7953"
             ],
             [
              0.7777777777777778,
              "#fb9f3a"
             ],
             [
              0.8888888888888888,
              "#fdca26"
             ],
             [
              1,
              "#f0f921"
             ]
            ],
            "type": "heatmapgl"
           }
          ],
          "histogram": [
           {
            "marker": {
             "pattern": {
              "fillmode": "overlay",
              "size": 10,
              "solidity": 0.2
             }
            },
            "type": "histogram"
           }
          ],
          "histogram2d": [
           {
            "colorbar": {
             "outlinewidth": 0,
             "ticks": ""
            },
            "colorscale": [
             [
              0,
              "#0d0887"
             ],
             [
              0.1111111111111111,
              "#46039f"
             ],
             [
              0.2222222222222222,
              "#7201a8"
             ],
             [
              0.3333333333333333,
              "#9c179e"
             ],
             [
              0.4444444444444444,
              "#bd3786"
             ],
             [
              0.5555555555555556,
              "#d8576b"
             ],
             [
              0.6666666666666666,
              "#ed7953"
             ],
             [
              0.7777777777777778,
              "#fb9f3a"
             ],
             [
              0.8888888888888888,
              "#fdca26"
             ],
             [
              1,
              "#f0f921"
             ]
            ],
            "type": "histogram2d"
           }
          ],
          "histogram2dcontour": [
           {
            "colorbar": {
             "outlinewidth": 0,
             "ticks": ""
            },
            "colorscale": [
             [
              0,
              "#0d0887"
             ],
             [
              0.1111111111111111,
              "#46039f"
             ],
             [
              0.2222222222222222,
              "#7201a8"
             ],
             [
              0.3333333333333333,
              "#9c179e"
             ],
             [
              0.4444444444444444,
              "#bd3786"
             ],
             [
              0.5555555555555556,
              "#d8576b"
             ],
             [
              0.6666666666666666,
              "#ed7953"
             ],
             [
              0.7777777777777778,
              "#fb9f3a"
             ],
             [
              0.8888888888888888,
              "#fdca26"
             ],
             [
              1,
              "#f0f921"
             ]
            ],
            "type": "histogram2dcontour"
           }
          ],
          "mesh3d": [
           {
            "colorbar": {
             "outlinewidth": 0,
             "ticks": ""
            },
            "type": "mesh3d"
           }
          ],
          "parcoords": [
           {
            "line": {
             "colorbar": {
              "outlinewidth": 0,
              "ticks": ""
             }
            },
            "type": "parcoords"
           }
          ],
          "pie": [
           {
            "automargin": true,
            "type": "pie"
           }
          ],
          "scatter": [
           {
            "fillpattern": {
             "fillmode": "overlay",
             "size": 10,
             "solidity": 0.2
            },
            "type": "scatter"
           }
          ],
          "scatter3d": [
           {
            "line": {
             "colorbar": {
              "outlinewidth": 0,
              "ticks": ""
             }
            },
            "marker": {
             "colorbar": {
              "outlinewidth": 0,
              "ticks": ""
             }
            },
            "type": "scatter3d"
           }
          ],
          "scattercarpet": [
           {
            "marker": {
             "colorbar": {
              "outlinewidth": 0,
              "ticks": ""
             }
            },
            "type": "scattercarpet"
           }
          ],
          "scattergeo": [
           {
            "marker": {
             "colorbar": {
              "outlinewidth": 0,
              "ticks": ""
             }
            },
            "type": "scattergeo"
           }
          ],
          "scattergl": [
           {
            "marker": {
             "colorbar": {
              "outlinewidth": 0,
              "ticks": ""
             }
            },
            "type": "scattergl"
           }
          ],
          "scattermapbox": [
           {
            "marker": {
             "colorbar": {
              "outlinewidth": 0,
              "ticks": ""
             }
            },
            "type": "scattermapbox"
           }
          ],
          "scatterpolar": [
           {
            "marker": {
             "colorbar": {
              "outlinewidth": 0,
              "ticks": ""
             }
            },
            "type": "scatterpolar"
           }
          ],
          "scatterpolargl": [
           {
            "marker": {
             "colorbar": {
              "outlinewidth": 0,
              "ticks": ""
             }
            },
            "type": "scatterpolargl"
           }
          ],
          "scatterternary": [
           {
            "marker": {
             "colorbar": {
              "outlinewidth": 0,
              "ticks": ""
             }
            },
            "type": "scatterternary"
           }
          ],
          "surface": [
           {
            "colorbar": {
             "outlinewidth": 0,
             "ticks": ""
            },
            "colorscale": [
             [
              0,
              "#0d0887"
             ],
             [
              0.1111111111111111,
              "#46039f"
             ],
             [
              0.2222222222222222,
              "#7201a8"
             ],
             [
              0.3333333333333333,
              "#9c179e"
             ],
             [
              0.4444444444444444,
              "#bd3786"
             ],
             [
              0.5555555555555556,
              "#d8576b"
             ],
             [
              0.6666666666666666,
              "#ed7953"
             ],
             [
              0.7777777777777778,
              "#fb9f3a"
             ],
             [
              0.8888888888888888,
              "#fdca26"
             ],
             [
              1,
              "#f0f921"
             ]
            ],
            "type": "surface"
           }
          ],
          "table": [
           {
            "cells": {
             "fill": {
              "color": "#EBF0F8"
             },
             "line": {
              "color": "white"
             }
            },
            "header": {
             "fill": {
              "color": "#C8D4E3"
             },
             "line": {
              "color": "white"
             }
            },
            "type": "table"
           }
          ]
         },
         "layout": {
          "annotationdefaults": {
           "arrowcolor": "#2a3f5f",
           "arrowhead": 0,
           "arrowwidth": 1
          },
          "autotypenumbers": "strict",
          "coloraxis": {
           "colorbar": {
            "outlinewidth": 0,
            "ticks": ""
           }
          },
          "colorscale": {
           "diverging": [
            [
             0,
             "#8e0152"
            ],
            [
             0.1,
             "#c51b7d"
            ],
            [
             0.2,
             "#de77ae"
            ],
            [
             0.3,
             "#f1b6da"
            ],
            [
             0.4,
             "#fde0ef"
            ],
            [
             0.5,
             "#f7f7f7"
            ],
            [
             0.6,
             "#e6f5d0"
            ],
            [
             0.7,
             "#b8e186"
            ],
            [
             0.8,
             "#7fbc41"
            ],
            [
             0.9,
             "#4d9221"
            ],
            [
             1,
             "#276419"
            ]
           ],
           "sequential": [
            [
             0,
             "#0d0887"
            ],
            [
             0.1111111111111111,
             "#46039f"
            ],
            [
             0.2222222222222222,
             "#7201a8"
            ],
            [
             0.3333333333333333,
             "#9c179e"
            ],
            [
             0.4444444444444444,
             "#bd3786"
            ],
            [
             0.5555555555555556,
             "#d8576b"
            ],
            [
             0.6666666666666666,
             "#ed7953"
            ],
            [
             0.7777777777777778,
             "#fb9f3a"
            ],
            [
             0.8888888888888888,
             "#fdca26"
            ],
            [
             1,
             "#f0f921"
            ]
           ],
           "sequentialminus": [
            [
             0,
             "#0d0887"
            ],
            [
             0.1111111111111111,
             "#46039f"
            ],
            [
             0.2222222222222222,
             "#7201a8"
            ],
            [
             0.3333333333333333,
             "#9c179e"
            ],
            [
             0.4444444444444444,
             "#bd3786"
            ],
            [
             0.5555555555555556,
             "#d8576b"
            ],
            [
             0.6666666666666666,
             "#ed7953"
            ],
            [
             0.7777777777777778,
             "#fb9f3a"
            ],
            [
             0.8888888888888888,
             "#fdca26"
            ],
            [
             1,
             "#f0f921"
            ]
           ]
          },
          "colorway": [
           "#636efa",
           "#EF553B",
           "#00cc96",
           "#ab63fa",
           "#FFA15A",
           "#19d3f3",
           "#FF6692",
           "#B6E880",
           "#FF97FF",
           "#FECB52"
          ],
          "font": {
           "color": "#2a3f5f"
          },
          "geo": {
           "bgcolor": "white",
           "lakecolor": "white",
           "landcolor": "#E5ECF6",
           "showlakes": true,
           "showland": true,
           "subunitcolor": "white"
          },
          "hoverlabel": {
           "align": "left"
          },
          "hovermode": "closest",
          "mapbox": {
           "style": "light"
          },
          "paper_bgcolor": "white",
          "plot_bgcolor": "#E5ECF6",
          "polar": {
           "angularaxis": {
            "gridcolor": "white",
            "linecolor": "white",
            "ticks": ""
           },
           "bgcolor": "#E5ECF6",
           "radialaxis": {
            "gridcolor": "white",
            "linecolor": "white",
            "ticks": ""
           }
          },
          "scene": {
           "xaxis": {
            "backgroundcolor": "#E5ECF6",
            "gridcolor": "white",
            "gridwidth": 2,
            "linecolor": "white",
            "showbackground": true,
            "ticks": "",
            "zerolinecolor": "white"
           },
           "yaxis": {
            "backgroundcolor": "#E5ECF6",
            "gridcolor": "white",
            "gridwidth": 2,
            "linecolor": "white",
            "showbackground": true,
            "ticks": "",
            "zerolinecolor": "white"
           },
           "zaxis": {
            "backgroundcolor": "#E5ECF6",
            "gridcolor": "white",
            "gridwidth": 2,
            "linecolor": "white",
            "showbackground": true,
            "ticks": "",
            "zerolinecolor": "white"
           }
          },
          "shapedefaults": {
           "line": {
            "color": "#2a3f5f"
           }
          },
          "ternary": {
           "aaxis": {
            "gridcolor": "white",
            "linecolor": "white",
            "ticks": ""
           },
           "baxis": {
            "gridcolor": "white",
            "linecolor": "white",
            "ticks": ""
           },
           "bgcolor": "#E5ECF6",
           "caxis": {
            "gridcolor": "white",
            "linecolor": "white",
            "ticks": ""
           }
          },
          "title": {
           "x": 0.05
          },
          "xaxis": {
           "automargin": true,
           "gridcolor": "white",
           "linecolor": "white",
           "ticks": "",
           "title": {
            "standoff": 15
           },
           "zerolinecolor": "white",
           "zerolinewidth": 2
          },
          "yaxis": {
           "automargin": true,
           "gridcolor": "white",
           "linecolor": "white",
           "ticks": "",
           "title": {
            "standoff": 15
           },
           "zerolinecolor": "white",
           "zerolinewidth": 2
          }
         }
        },
        "title": {
         "text": "Gantt Chart with Filled Areas"
        },
        "xaxis": {
         "anchor": "y",
         "domain": [
          0,
          1
         ],
         "type": "date"
        },
        "yaxis": {
         "anchor": "x",
         "domain": [
          0,
          1
         ],
         "showgrid": false,
         "showline": false,
         "showticklabels": true,
         "title": {
          "text": "Task"
         },
         "zeroline": false
        }
       }
      },
      "text/html": [
       "<div>                            <div id=\"8b1576af-6713-4e42-be94-1e9467446555\" class=\"plotly-graph-div\" style=\"height:525px; width:100%;\"></div>            <script type=\"text/javascript\">                require([\"plotly\"], function(Plotly) {                    window.PLOTLYENV=window.PLOTLYENV || {};                                    if (document.getElementById(\"8b1576af-6713-4e42-be94-1e9467446555\")) {                    Plotly.newPlot(                        \"8b1576af-6713-4e42-be94-1e9467446555\",                        [{\"alignmentgroup\":\"True\",\"base\":[\"2023-08-01T00:00:00\",\"2023-08-05T00:00:00\",\"2023-08-10T00:00:00\"],\"hovertemplate\":\"Start=%{base}<br>End=%{x}<br>Task=%{y}<extra></extra>\",\"legendgroup\":\"\",\"marker\":{\"color\":\"#636efa\",\"pattern\":{\"shape\":\"\"}},\"name\":\"\",\"offsetgroup\":\"\",\"orientation\":\"h\",\"showlegend\":false,\"textposition\":\"auto\",\"x\":[259200000.0,259200000.0,345600000.0],\"xaxis\":\"x\",\"y\":[\"Task 1\",\"Task 2\",\"Task 3\"],\"yaxis\":\"y\",\"type\":\"bar\"}],                        {\"template\":{\"data\":{\"histogram2dcontour\":[{\"type\":\"histogram2dcontour\",\"colorbar\":{\"outlinewidth\":0,\"ticks\":\"\"},\"colorscale\":[[0.0,\"#0d0887\"],[0.1111111111111111,\"#46039f\"],[0.2222222222222222,\"#7201a8\"],[0.3333333333333333,\"#9c179e\"],[0.4444444444444444,\"#bd3786\"],[0.5555555555555556,\"#d8576b\"],[0.6666666666666666,\"#ed7953\"],[0.7777777777777778,\"#fb9f3a\"],[0.8888888888888888,\"#fdca26\"],[1.0,\"#f0f921\"]]}],\"choropleth\":[{\"type\":\"choropleth\",\"colorbar\":{\"outlinewidth\":0,\"ticks\":\"\"}}],\"histogram2d\":[{\"type\":\"histogram2d\",\"colorbar\":{\"outlinewidth\":0,\"ticks\":\"\"},\"colorscale\":[[0.0,\"#0d0887\"],[0.1111111111111111,\"#46039f\"],[0.2222222222222222,\"#7201a8\"],[0.3333333333333333,\"#9c179e\"],[0.4444444444444444,\"#bd3786\"],[0.5555555555555556,\"#d8576b\"],[0.6666666666666666,\"#ed7953\"],[0.7777777777777778,\"#fb9f3a\"],[0.8888888888888888,\"#fdca26\"],[1.0,\"#f0f921\"]]}],\"heatmap\":[{\"type\":\"heatmap\",\"colorbar\":{\"outlinewidth\":0,\"ticks\":\"\"},\"colorscale\":[[0.0,\"#0d0887\"],[0.1111111111111111,\"#46039f\"],[0.2222222222222222,\"#7201a8\"],[0.3333333333333333,\"#9c179e\"],[0.4444444444444444,\"#bd3786\"],[0.5555555555555556,\"#d8576b\"],[0.6666666666666666,\"#ed7953\"],[0.7777777777777778,\"#fb9f3a\"],[0.8888888888888888,\"#fdca26\"],[1.0,\"#f0f921\"]]}],\"heatmapgl\":[{\"type\":\"heatmapgl\",\"colorbar\":{\"outlinewidth\":0,\"ticks\":\"\"},\"colorscale\":[[0.0,\"#0d0887\"],[0.1111111111111111,\"#46039f\"],[0.2222222222222222,\"#7201a8\"],[0.3333333333333333,\"#9c179e\"],[0.4444444444444444,\"#bd3786\"],[0.5555555555555556,\"#d8576b\"],[0.6666666666666666,\"#ed7953\"],[0.7777777777777778,\"#fb9f3a\"],[0.8888888888888888,\"#fdca26\"],[1.0,\"#f0f921\"]]}],\"contourcarpet\":[{\"type\":\"contourcarpet\",\"colorbar\":{\"outlinewidth\":0,\"ticks\":\"\"}}],\"contour\":[{\"type\":\"contour\",\"colorbar\":{\"outlinewidth\":0,\"ticks\":\"\"},\"colorscale\":[[0.0,\"#0d0887\"],[0.1111111111111111,\"#46039f\"],[0.2222222222222222,\"#7201a8\"],[0.3333333333333333,\"#9c179e\"],[0.4444444444444444,\"#bd3786\"],[0.5555555555555556,\"#d8576b\"],[0.6666666666666666,\"#ed7953\"],[0.7777777777777778,\"#fb9f3a\"],[0.8888888888888888,\"#fdca26\"],[1.0,\"#f0f921\"]]}],\"surface\":[{\"type\":\"surface\",\"colorbar\":{\"outlinewidth\":0,\"ticks\":\"\"},\"colorscale\":[[0.0,\"#0d0887\"],[0.1111111111111111,\"#46039f\"],[0.2222222222222222,\"#7201a8\"],[0.3333333333333333,\"#9c179e\"],[0.4444444444444444,\"#bd3786\"],[0.5555555555555556,\"#d8576b\"],[0.6666666666666666,\"#ed7953\"],[0.7777777777777778,\"#fb9f3a\"],[0.8888888888888888,\"#fdca26\"],[1.0,\"#f0f921\"]]}],\"mesh3d\":[{\"type\":\"mesh3d\",\"colorbar\":{\"outlinewidth\":0,\"ticks\":\"\"}}],\"scatter\":[{\"fillpattern\":{\"fillmode\":\"overlay\",\"size\":10,\"solidity\":0.2},\"type\":\"scatter\"}],\"parcoords\":[{\"type\":\"parcoords\",\"line\":{\"colorbar\":{\"outlinewidth\":0,\"ticks\":\"\"}}}],\"scatterpolargl\":[{\"type\":\"scatterpolargl\",\"marker\":{\"colorbar\":{\"outlinewidth\":0,\"ticks\":\"\"}}}],\"bar\":[{\"error_x\":{\"color\":\"#2a3f5f\"},\"error_y\":{\"color\":\"#2a3f5f\"},\"marker\":{\"line\":{\"color\":\"#E5ECF6\",\"width\":0.5},\"pattern\":{\"fillmode\":\"overlay\",\"size\":10,\"solidity\":0.2}},\"type\":\"bar\"}],\"scattergeo\":[{\"type\":\"scattergeo\",\"marker\":{\"colorbar\":{\"outlinewidth\":0,\"ticks\":\"\"}}}],\"scatterpolar\":[{\"type\":\"scatterpolar\",\"marker\":{\"colorbar\":{\"outlinewidth\":0,\"ticks\":\"\"}}}],\"histogram\":[{\"marker\":{\"pattern\":{\"fillmode\":\"overlay\",\"size\":10,\"solidity\":0.2}},\"type\":\"histogram\"}],\"scattergl\":[{\"type\":\"scattergl\",\"marker\":{\"colorbar\":{\"outlinewidth\":0,\"ticks\":\"\"}}}],\"scatter3d\":[{\"type\":\"scatter3d\",\"line\":{\"colorbar\":{\"outlinewidth\":0,\"ticks\":\"\"}},\"marker\":{\"colorbar\":{\"outlinewidth\":0,\"ticks\":\"\"}}}],\"scattermapbox\":[{\"type\":\"scattermapbox\",\"marker\":{\"colorbar\":{\"outlinewidth\":0,\"ticks\":\"\"}}}],\"scatterternary\":[{\"type\":\"scatterternary\",\"marker\":{\"colorbar\":{\"outlinewidth\":0,\"ticks\":\"\"}}}],\"scattercarpet\":[{\"type\":\"scattercarpet\",\"marker\":{\"colorbar\":{\"outlinewidth\":0,\"ticks\":\"\"}}}],\"carpet\":[{\"aaxis\":{\"endlinecolor\":\"#2a3f5f\",\"gridcolor\":\"white\",\"linecolor\":\"white\",\"minorgridcolor\":\"white\",\"startlinecolor\":\"#2a3f5f\"},\"baxis\":{\"endlinecolor\":\"#2a3f5f\",\"gridcolor\":\"white\",\"linecolor\":\"white\",\"minorgridcolor\":\"white\",\"startlinecolor\":\"#2a3f5f\"},\"type\":\"carpet\"}],\"table\":[{\"cells\":{\"fill\":{\"color\":\"#EBF0F8\"},\"line\":{\"color\":\"white\"}},\"header\":{\"fill\":{\"color\":\"#C8D4E3\"},\"line\":{\"color\":\"white\"}},\"type\":\"table\"}],\"barpolar\":[{\"marker\":{\"line\":{\"color\":\"#E5ECF6\",\"width\":0.5},\"pattern\":{\"fillmode\":\"overlay\",\"size\":10,\"solidity\":0.2}},\"type\":\"barpolar\"}],\"pie\":[{\"automargin\":true,\"type\":\"pie\"}]},\"layout\":{\"autotypenumbers\":\"strict\",\"colorway\":[\"#636efa\",\"#EF553B\",\"#00cc96\",\"#ab63fa\",\"#FFA15A\",\"#19d3f3\",\"#FF6692\",\"#B6E880\",\"#FF97FF\",\"#FECB52\"],\"font\":{\"color\":\"#2a3f5f\"},\"hovermode\":\"closest\",\"hoverlabel\":{\"align\":\"left\"},\"paper_bgcolor\":\"white\",\"plot_bgcolor\":\"#E5ECF6\",\"polar\":{\"bgcolor\":\"#E5ECF6\",\"angularaxis\":{\"gridcolor\":\"white\",\"linecolor\":\"white\",\"ticks\":\"\"},\"radialaxis\":{\"gridcolor\":\"white\",\"linecolor\":\"white\",\"ticks\":\"\"}},\"ternary\":{\"bgcolor\":\"#E5ECF6\",\"aaxis\":{\"gridcolor\":\"white\",\"linecolor\":\"white\",\"ticks\":\"\"},\"baxis\":{\"gridcolor\":\"white\",\"linecolor\":\"white\",\"ticks\":\"\"},\"caxis\":{\"gridcolor\":\"white\",\"linecolor\":\"white\",\"ticks\":\"\"}},\"coloraxis\":{\"colorbar\":{\"outlinewidth\":0,\"ticks\":\"\"}},\"colorscale\":{\"sequential\":[[0.0,\"#0d0887\"],[0.1111111111111111,\"#46039f\"],[0.2222222222222222,\"#7201a8\"],[0.3333333333333333,\"#9c179e\"],[0.4444444444444444,\"#bd3786\"],[0.5555555555555556,\"#d8576b\"],[0.6666666666666666,\"#ed7953\"],[0.7777777777777778,\"#fb9f3a\"],[0.8888888888888888,\"#fdca26\"],[1.0,\"#f0f921\"]],\"sequentialminus\":[[0.0,\"#0d0887\"],[0.1111111111111111,\"#46039f\"],[0.2222222222222222,\"#7201a8\"],[0.3333333333333333,\"#9c179e\"],[0.4444444444444444,\"#bd3786\"],[0.5555555555555556,\"#d8576b\"],[0.6666666666666666,\"#ed7953\"],[0.7777777777777778,\"#fb9f3a\"],[0.8888888888888888,\"#fdca26\"],[1.0,\"#f0f921\"]],\"diverging\":[[0,\"#8e0152\"],[0.1,\"#c51b7d\"],[0.2,\"#de77ae\"],[0.3,\"#f1b6da\"],[0.4,\"#fde0ef\"],[0.5,\"#f7f7f7\"],[0.6,\"#e6f5d0\"],[0.7,\"#b8e186\"],[0.8,\"#7fbc41\"],[0.9,\"#4d9221\"],[1,\"#276419\"]]},\"xaxis\":{\"gridcolor\":\"white\",\"linecolor\":\"white\",\"ticks\":\"\",\"title\":{\"standoff\":15},\"zerolinecolor\":\"white\",\"automargin\":true,\"zerolinewidth\":2},\"yaxis\":{\"gridcolor\":\"white\",\"linecolor\":\"white\",\"ticks\":\"\",\"title\":{\"standoff\":15},\"zerolinecolor\":\"white\",\"automargin\":true,\"zerolinewidth\":2},\"scene\":{\"xaxis\":{\"backgroundcolor\":\"#E5ECF6\",\"gridcolor\":\"white\",\"linecolor\":\"white\",\"showbackground\":true,\"ticks\":\"\",\"zerolinecolor\":\"white\",\"gridwidth\":2},\"yaxis\":{\"backgroundcolor\":\"#E5ECF6\",\"gridcolor\":\"white\",\"linecolor\":\"white\",\"showbackground\":true,\"ticks\":\"\",\"zerolinecolor\":\"white\",\"gridwidth\":2},\"zaxis\":{\"backgroundcolor\":\"#E5ECF6\",\"gridcolor\":\"white\",\"linecolor\":\"white\",\"showbackground\":true,\"ticks\":\"\",\"zerolinecolor\":\"white\",\"gridwidth\":2}},\"shapedefaults\":{\"line\":{\"color\":\"#2a3f5f\"}},\"annotationdefaults\":{\"arrowcolor\":\"#2a3f5f\",\"arrowhead\":0,\"arrowwidth\":1},\"geo\":{\"bgcolor\":\"white\",\"landcolor\":\"#E5ECF6\",\"subunitcolor\":\"white\",\"showland\":true,\"showlakes\":true,\"lakecolor\":\"white\"},\"title\":{\"x\":0.05},\"mapbox\":{\"style\":\"light\"}}},\"xaxis\":{\"anchor\":\"y\",\"domain\":[0.0,1.0],\"type\":\"date\"},\"yaxis\":{\"anchor\":\"x\",\"domain\":[0.0,1.0],\"title\":{\"text\":\"Task\"},\"showgrid\":false,\"zeroline\":false,\"showline\":false,\"showticklabels\":true},\"legend\":{\"tracegroupgap\":0},\"title\":{\"text\":\"Gantt Chart with Filled Areas\"},\"barmode\":\"overlay\",\"shapes\":[{\"fillcolor\":\"rgba(0, 176, 246, 0.2)\",\"layer\":\"below\",\"line\":{\"width\":0},\"type\":\"rect\",\"x0\":\"2023-08-01T00:00:00\",\"x1\":\"2023-08-05T00:00:00\",\"y0\":-1,\"y1\":5},{\"fillcolor\":\"rgba(0, 176, 246, 0.2)\",\"layer\":\"below\",\"line\":{\"width\":0},\"type\":\"rect\",\"x0\":\"2023-08-05T00:00:00\",\"x1\":\"2023-08-10T00:00:00\",\"y0\":-1,\"y1\":5}],\"showlegend\":false},                        {\"responsive\": true}                    ).then(function(){\n",
       "                            \n",
       "var gd = document.getElementById('8b1576af-6713-4e42-be94-1e9467446555');\n",
       "var x = new MutationObserver(function (mutations, observer) {{\n",
       "        var display = window.getComputedStyle(gd).display;\n",
       "        if (!display || display === 'none') {{\n",
       "            console.log([gd, 'removed!']);\n",
       "            Plotly.purge(gd);\n",
       "            observer.disconnect();\n",
       "        }}\n",
       "}});\n",
       "\n",
       "// Listen for the removal of the full notebook cells\n",
       "var notebookContainer = gd.closest('#notebook-container');\n",
       "if (notebookContainer) {{\n",
       "    x.observe(notebookContainer, {childList: true});\n",
       "}}\n",
       "\n",
       "// Listen for the clearing of the current output cell\n",
       "var outputEl = gd.closest('.output');\n",
       "if (outputEl) {{\n",
       "    x.observe(outputEl, {childList: true});\n",
       "}}\n",
       "\n",
       "                        })                };                });            </script>        </div>"
      ]
     },
     "metadata": {},
     "output_type": "display_data"
    }
   ],
   "source": [
    "import plotly.express as px\n",
    "import pandas as pd\n",
    "\n",
    "# Sample Gantt chart data\n",
    "data = {\n",
    "    'Task': ['Task 1', 'Task 2', 'Task 3'],\n",
    "    'Start': pd.to_datetime(['2023-08-01', '2023-08-05', '2023-08-10']),\n",
    "    'End': pd.to_datetime(['2023-08-04', '2023-08-08', '2023-08-14'])\n",
    "}\n",
    "\n",
    "df = pd.DataFrame(data)\n",
    "\n",
    "# Sort the DataFrame by the \"Start\" column\n",
    "df = df.sort_values(by='Start')\n",
    "\n",
    "# Create the Gantt chart with filled areas between vertical lines\n",
    "fig = px.timeline(df, x_start=\"Start\", x_end=\"End\", y=\"Task\", title=\"Gantt Chart with Filled Areas\")\n",
    "\n",
    "# Use the 'line_shape' parameter to draw vertical lines\n",
    "#fig.update_traces(line_shape='hv')\n",
    "\n",
    "# Use the 'fill' parameter to fill the area between the vertical lines\n",
    "for i in range(len(df) - 1):\n",
    "    fig.add_shape(\n",
    "        type='rect',\n",
    "        x0=df['Start'].iloc[i],\n",
    "        y0=-1,\n",
    "        x1=df['Start'].iloc[i + 1],\n",
    "        y1=5,\n",
    "        fillcolor='rgba(0, 176, 246, 0.2)',\n",
    "        line=dict(width=0),\n",
    "        layer='below'\n",
    "    )\n",
    "\n",
    "# Update layout\n",
    "fig.update_layout(\n",
    "    yaxis=dict(\n",
    "        showgrid=False,\n",
    "        zeroline=False,\n",
    "        showline=False,\n",
    "        showticklabels=True\n",
    "    ),\n",
    "    xaxis=dict(type='date'),\n",
    "    showlegend=False\n",
    ")\n",
    "\n",
    "fig.show()\n"
   ]
  },
  {
   "cell_type": "code",
   "execution_count": 5,
   "id": "15e79e81",
   "metadata": {},
   "outputs": [
    {
     "ename": "NameError",
     "evalue": "name 'python' is not defined",
     "output_type": "error",
     "traceback": [
      "\u001b[0;31m---------------------------------------------------------------------------\u001b[0m",
      "\u001b[0;31mNameError\u001b[0m                                 Traceback (most recent call last)",
      "Cell \u001b[0;32mIn[5], line 1\u001b[0m\n\u001b[0;32m----> 1\u001b[0m \u001b[43mpython\u001b[49m \u001b[38;5;241m-\u001b[39mV\n",
      "\u001b[0;31mNameError\u001b[0m: name 'python' is not defined"
     ]
    }
   ],
   "source": [
    "python -V"
   ]
  },
  {
   "cell_type": "code",
   "execution_count": null,
   "id": "00b9ff01",
   "metadata": {},
   "outputs": [],
   "source": []
  }
 ],
 "metadata": {
  "kernelspec": {
   "display_name": "Python 3 (ipykernel)",
   "language": "python",
   "name": "python3"
  },
  "language_info": {
   "codemirror_mode": {
    "name": "ipython",
    "version": 3
   },
   "file_extension": ".py",
   "mimetype": "text/x-python",
   "name": "python",
   "nbconvert_exporter": "python",
   "pygments_lexer": "ipython3",
   "version": "3.10.9"
  }
 },
 "nbformat": 4,
 "nbformat_minor": 5
}
