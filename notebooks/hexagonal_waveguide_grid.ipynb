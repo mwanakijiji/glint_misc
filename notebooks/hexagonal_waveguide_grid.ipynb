{
 "cells": [
  {
   "cell_type": "code",
   "execution_count": null,
   "id": "2b21d580",
   "metadata": {},
   "outputs": [],
   "source": [
    "# Computes the coordinates of waveguide inputs for the GLINT chip"
   ]
  },
  {
   "cell_type": "code",
   "execution_count": 1,
   "id": "9f649876",
   "metadata": {},
   "outputs": [],
   "source": [
    "from hexalattice.hexalattice import *"
   ]
  },
  {
   "cell_type": "code",
   "execution_count": 2,
   "id": "63c85531",
   "metadata": {},
   "outputs": [],
   "source": [
    "# pitches of DMs\n",
    "\n",
    "pitch_irisAO = 606. # um\n",
    "pitch_BMC = 647.5 # um\n",
    "\n",
    "# magnification DM -> MLA\n",
    "M = 0.1"
   ]
  },
  {
   "cell_type": "code",
   "execution_count": 3,
   "id": "cbe91668",
   "metadata": {},
   "outputs": [],
   "source": [
    "hex_centers_irisAO, _ = create_hex_grid(nx=4,\n",
    "                                 ny=4,\n",
    "                                 min_diam=M*pitch_irisAO,align_to_origin=False,\n",
    "                                 do_plot=False)\n",
    "                                 \n",
    "hex_centers_BMC, _ = create_hex_grid(nx=4,\n",
    "                                 ny=4,\n",
    "                                 min_diam=M*pitch_BMC,align_to_origin=False,\n",
    "                                 do_plot=False)"
   ]
  },
  {
   "cell_type": "code",
   "execution_count": 4,
   "id": "b072465c",
   "metadata": {},
   "outputs": [],
   "source": [
    "centers_x_irisAO = hex_centers_irisAO[:, 0]\n",
    "centers_y_irisAO = hex_centers_irisAO[:, 1]\n",
    "\n",
    "centers_x_BMC = hex_centers_BMC[:, 0]\n",
    "centers_y_BMC = hex_centers_BMC[:, 1]"
   ]
  },
  {
   "cell_type": "code",
   "execution_count": 6,
   "id": "6640fb25",
   "metadata": {},
   "outputs": [],
   "source": [
    "xtick_loc = 20*np.arange(13)\n",
    "ytick_loc = 20*np.arange(10)\n",
    "\n",
    "plt.clf()\n",
    "plt.scatter(centers_x_irisAO,centers_y_irisAO)\n",
    "plt.title('Waveguide centers (IrisAO)')\n",
    "plt.xlabel('um')\n",
    "plt.ylabel('um')\n",
    "ax = plt.gca()\n",
    "ax.set_aspect('equal', adjustable='box')\n",
    "ax.set_xticks(xtick_loc)\n",
    "ax.set_yticks(ytick_loc)\n",
    "plt.grid(visible=True,which='major')\n",
    "plt.savefig('iris.png')"
   ]
  },
  {
   "cell_type": "code",
   "execution_count": 7,
   "id": "cb89e2af",
   "metadata": {},
   "outputs": [],
   "source": [
    "xtick_loc = 20*np.arange(13)\n",
    "ytick_loc = 20*np.arange(10)\n",
    "\n",
    "plt.clf()\n",
    "plt.scatter(centers_x_BMC,centers_y_BMC)\n",
    "plt.title('Waveguide centers (BMC)')\n",
    "plt.xlabel('um')\n",
    "plt.ylabel('um')\n",
    "ax = plt.gca()\n",
    "ax.set_aspect('equal', adjustable='box')\n",
    "ax.set_xticks(xtick_loc)\n",
    "ax.set_yticks(ytick_loc)\n",
    "plt.grid(visible=True,which='major')\n",
    "plt.savefig('bmc.png')"
   ]
  },
  {
   "cell_type": "code",
   "execution_count": 16,
   "id": "95337a0b",
   "metadata": {},
   "outputs": [
    {
     "name": "stdout",
     "output_type": "stream",
     "text": [
      "[[  0.           0.        ]\n",
      " [ 60.6          0.        ]\n",
      " [121.2          0.        ]\n",
      " [181.8          0.        ]\n",
      " [ 30.3         52.48113947]\n",
      " [ 90.9         52.48113947]\n",
      " [151.5         52.48113947]\n",
      " [212.1         52.48113947]\n",
      " [  0.         104.96227894]\n",
      " [ 60.6        104.96227894]\n",
      " [121.2        104.96227894]\n",
      " [181.8        104.96227894]\n",
      " [ 30.3        157.44341841]\n",
      " [ 90.9        157.44341841]\n",
      " [151.5        157.44341841]\n",
      " [212.1        157.44341841]]\n"
     ]
    }
   ],
   "source": [
    "print(np.column_stack((centers_x_irisAO,centers_y_irisAO)))"
   ]
  },
  {
   "cell_type": "code",
   "execution_count": 17,
   "id": "51ab66a8",
   "metadata": {},
   "outputs": [
    {
     "name": "stdout",
     "output_type": "stream",
     "text": [
      "[[  0.           0.        ]\n",
      " [ 64.75         0.        ]\n",
      " [129.5          0.        ]\n",
      " [194.25         0.        ]\n",
      " [ 32.375       56.0751449 ]\n",
      " [ 97.125       56.0751449 ]\n",
      " [161.875       56.0751449 ]\n",
      " [226.625       56.0751449 ]\n",
      " [  0.         112.15028979]\n",
      " [ 64.75       112.15028979]\n",
      " [129.5        112.15028979]\n",
      " [194.25       112.15028979]\n",
      " [ 32.375      168.22543469]\n",
      " [ 97.125      168.22543469]\n",
      " [161.875      168.22543469]\n",
      " [226.625      168.22543469]]\n"
     ]
    }
   ],
   "source": [
    "print(np.column_stack((centers_x_BMC,centers_y_BMC)))"
   ]
  },
  {
   "cell_type": "code",
   "execution_count": null,
   "id": "8c1bed33",
   "metadata": {},
   "outputs": [],
   "source": []
  }
 ],
 "metadata": {
  "kernelspec": {
   "display_name": "Python 3 (ipykernel)",
   "language": "python",
   "name": "python3"
  },
  "language_info": {
   "codemirror_mode": {
    "name": "ipython",
    "version": 3
   },
   "file_extension": ".py",
   "mimetype": "text/x-python",
   "name": "python",
   "nbconvert_exporter": "python",
   "pygments_lexer": "ipython3",
   "version": "3.10.9"
  }
 },
 "nbformat": 4,
 "nbformat_minor": 5
}
