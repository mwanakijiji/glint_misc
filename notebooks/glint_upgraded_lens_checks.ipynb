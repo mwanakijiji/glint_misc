{
 "cells": [
  {
   "cell_type": "code",
   "execution_count": null,
   "id": "fbea0302",
   "metadata": {},
   "outputs": [],
   "source": [
    "# Finds needed placements of lenses for upgraded GLINT\n",
    "\n",
    "# Created 2023 June 9 by E.S."
   ]
  },
  {
   "cell_type": "code",
   "execution_count": 1,
   "id": "8af999a1",
   "metadata": {},
   "outputs": [],
   "source": [
    "import numpy as np"
   ]
  },
  {
   "cell_type": "code",
   "execution_count": 2,
   "id": "466e00ab",
   "metadata": {},
   "outputs": [],
   "source": [
    "# effective back focal length of a two-lens system\n",
    "\n",
    "def ebfl(f1,f2,d):\n",
    "    '''\n",
    "    EBFL is the focal point of a combined two-lens system, as measured after lens 2\n",
    "    \n",
    "    f1: focal length of lens 1\n",
    "    f2: focal length of lens 2\n",
    "    d: distance between lenses\n",
    "    '''\n",
    "    \n",
    "    return np.divide( np.multiply(f2,(d-f1)), d-f1-f2 )"
   ]
  },
  {
   "cell_type": "code",
   "execution_count": 5,
   "id": "01a04c7e",
   "metadata": {},
   "outputs": [],
   "source": [
    "test = ebfl(f1=50.,f2=20.,d=30.)"
   ]
  },
  {
   "cell_type": "code",
   "execution_count": 6,
   "id": "bef7f51a",
   "metadata": {},
   "outputs": [
    {
     "data": {
      "text/plain": [
       "10.0"
      ]
     },
     "execution_count": 6,
     "metadata": {},
     "output_type": "execute_result"
    }
   ],
   "source": [
    "test"
   ]
  },
  {
   "cell_type": "code",
   "execution_count": null,
   "id": "3921c982",
   "metadata": {},
   "outputs": [],
   "source": []
  }
 ],
 "metadata": {
  "kernelspec": {
   "display_name": "Python 3 (ipykernel)",
   "language": "python",
   "name": "python3"
  },
  "language_info": {
   "codemirror_mode": {
    "name": "ipython",
    "version": 3
   },
   "file_extension": ".py",
   "mimetype": "text/x-python",
   "name": "python",
   "nbconvert_exporter": "python",
   "pygments_lexer": "ipython3",
   "version": "3.10.9"
  }
 },
 "nbformat": 4,
 "nbformat_minor": 5
}
