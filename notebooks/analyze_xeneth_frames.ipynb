{
 "cells": [
  {
   "cell_type": "code",
   "execution_count": null,
   "id": "74862417",
   "metadata": {},
   "outputs": [],
   "source": [
    "# Reads in Xeneth frames, plots them\n",
    "\n",
    "# Created 2023 Nov. 8 by E.S."
   ]
  },
  {
   "cell_type": "code",
   "execution_count": 1,
   "id": "7733a490",
   "metadata": {},
   "outputs": [],
   "source": [
    "import matplotlib.pyplot as plt\n",
    "import glob\n",
    "import imageio.v3 as iio\n",
    "import numpy as np\n",
    "\n",
    "%matplotlib qt"
   ]
  },
  {
   "cell_type": "code",
   "execution_count": 2,
   "id": "908074fb",
   "metadata": {},
   "outputs": [],
   "source": [
    "stem = '/Users/bandari/Documents/git.repos/glint_misc/notebooks/data/dirac/'"
   ]
  },
  {
   "cell_type": "code",
   "execution_count": 3,
   "id": "be76a6ed",
   "metadata": {},
   "outputs": [],
   "source": [
    "file_list_darks_high_gain = glob.glob(stem + 'xeneth_frames/20231108/high_gain/dark_*png')\n",
    "file_list_light_no_source_high_gain = glob.glob(stem + 'xeneth_frames/20231108/high_gain/light_no_source_*png')\n",
    "file_list_light_with_source_high_gain = glob.glob(stem + 'xeneth_frames/20231108/high_gain/light_source_on_*png')"
   ]
  },
  {
   "cell_type": "code",
   "execution_count": 5,
   "id": "d695d97d",
   "metadata": {},
   "outputs": [
    {
     "name": "stderr",
     "output_type": "stream",
     "text": [
      "/Users/bandari/anaconda3/envs/glint_env/lib/python3.10/site-packages/imageio/plugins/pillow.py:304: UserWarning: Loading 16-bit (uint16) PNG as int32 due to limitations in pillow's PNG decoder. This will be fixed in a future version of pillow which will make this warning dissapear.\n",
      "  warnings.warn(\n"
     ]
    }
   ],
   "source": [
    "# read in test frame to get dimensions\n",
    "\n",
    "im_test = iio.imread(file_list_darks_high_gain[0])"
   ]
  },
  {
   "cell_type": "code",
   "execution_count": 14,
   "id": "c37a907e",
   "metadata": {},
   "outputs": [],
   "source": [
    "# make bad pixel mask\n",
    "\n",
    "cube_frames = np.zeros((len(file_list_darks_high_gain),np.shape(im_test)[0],np.shape(im_test)[1]))\n",
    "\n",
    "# put frames into cube\n",
    "for file_num in range(0,len(file_list_darks_high_gain)):\n",
    "    \n",
    "    im_this = iio.imread(file_list_darks_high_gain[file_num])\n",
    "    \n",
    "    cube_frames[file_num,:,:] = im_this"
   ]
  },
  {
   "cell_type": "code",
   "execution_count": 15,
   "id": "cbd4d05e",
   "metadata": {},
   "outputs": [],
   "source": [
    "std_frame_dark = np.std(cube_frames, axis = 0)\n",
    "mean_frame_dark = np.mean(cube_frames, axis = 0)"
   ]
  },
  {
   "cell_type": "code",
   "execution_count": 12,
   "id": "dd0b5543",
   "metadata": {},
   "outputs": [],
   "source": [
    "plt.hist(mean_frame)\n",
    "plt.show()"
   ]
  },
  {
   "cell_type": "code",
   "execution_count": 9,
   "id": "718ad61d",
   "metadata": {},
   "outputs": [],
   "source": [
    "# bad: pixels with mean counts higher than 2880\n",
    "# 0: bad; 1: good\n",
    "\n",
    "bad_pix_mask = (mean_frame <= 2880).astype(int)"
   ]
  },
  {
   "cell_type": "code",
   "execution_count": 22,
   "id": "355d3797",
   "metadata": {},
   "outputs": [],
   "source": [
    "plt.imshow(bad_pix_mask)\n",
    "plt.show()"
   ]
  },
  {
   "cell_type": "code",
   "execution_count": 19,
   "id": "38f8490e",
   "metadata": {},
   "outputs": [],
   "source": [
    "# make average light (no source), and dark-subtract\n",
    "\n",
    "cube_frames = np.zeros((len(file_list_light_no_source_high_gain),np.shape(im_test)[0],np.shape(im_test)[1]))\n",
    "\n",
    "# put frames into cube\n",
    "for file_num in range(0,len(file_list_light_no_source_high_gain)):\n",
    "    \n",
    "    im_this = iio.imread(file_list_light_no_source_high_gain[file_num])\n",
    "    \n",
    "    cube_frames[file_num,:,:] = im_this\n",
    "    \n",
    "std_frame_light_no_souce = np.std(cube_frames, axis = 0)\n",
    "mean_frame_light_no_souce = np.mean(cube_frames, axis = 0)\n",
    "\n",
    "# dark-subtract\n",
    "light_no_source_avg_dark_subt = mean_frame_light_no_souce - mean_frame_dark"
   ]
  },
  {
   "cell_type": "code",
   "execution_count": 24,
   "id": "4561fff6",
   "metadata": {},
   "outputs": [],
   "source": [
    "# make average light (with source)\n",
    "\n",
    "cube_frames = np.zeros((len(file_list_light_with_source_high_gain),np.shape(im_test)[0],np.shape(im_test)[1]))\n",
    "\n",
    "# put frames into cube\n",
    "for file_num in range(0,len(file_list_light_with_source_high_gain)):\n",
    "    \n",
    "    im_this = iio.imread(file_list_light_with_source_high_gain[file_num])\n",
    "    \n",
    "    cube_frames[file_num,:,:] = im_this\n",
    "    \n",
    "std_frame_light_with_souce = np.std(cube_frames, axis = 0)\n",
    "mean_frame_light_with_souce = np.mean(cube_frames, axis = 0)\n",
    "\n",
    "# dark-subtract\n",
    "light_with_source_avg_dark_subt = mean_frame_light_with_souce - mean_frame_dark"
   ]
  },
  {
   "cell_type": "code",
   "execution_count": 25,
   "id": "0a12b17c",
   "metadata": {},
   "outputs": [
    {
     "data": {
      "text/plain": [
       "array([[8345.55445545, 8075.23762376, 8304.81188119, ..., 6847.27722772,\n",
       "        7036.40594059, 7029.08910891],\n",
       "       [8310.14851485, 7973.14851485, 8143.45544554, ..., 6761.9009901 ,\n",
       "        6956.93069307, 7033.22772277],\n",
       "       [8247.16831683, 7968.41584158, 8210.4950495 , ..., 6832.21782178,\n",
       "        6893.53465347, 6941.26732673],\n",
       "       ...,\n",
       "       [5183.40594059, 4988.53465347, 5109.86138614, ..., 3764.2970297 ,\n",
       "        3880.43564356, 3906.92079208],\n",
       "       [5134.6039604 , 4998.3960396 , 5130.40594059, ..., 3782.06930693,\n",
       "        3875.15841584, 3861.32673267],\n",
       "       [5191.30693069, 5021.        , 5096.94059406, ..., 3811.67326733,\n",
       "        3860.96039604, 3911.48514851]])"
      ]
     },
     "execution_count": 25,
     "metadata": {},
     "output_type": "execute_result"
    }
   ],
   "source": [
    "light_avg_dark_subt"
   ]
  },
  {
   "cell_type": "code",
   "execution_count": 35,
   "id": "178ede75",
   "metadata": {},
   "outputs": [],
   "source": [
    "#plt.imshow(np.std(cube_frames, axis = 0))\n",
    "plt.imshow(light_with_source_avg_dark_subt)\n",
    "plt.show()"
   ]
  },
  {
   "cell_type": "code",
   "execution_count": 20,
   "id": "35f0587e",
   "metadata": {},
   "outputs": [],
   "source": [
    "plt.imshow(mean_frame, vmin=0, vmax=3000)\n",
    "plt.show()"
   ]
  },
  {
   "cell_type": "code",
   "execution_count": 10,
   "id": "d2baa97f",
   "metadata": {},
   "outputs": [
    {
     "data": {
      "text/plain": [
       "numpy.int32"
      ]
     },
     "execution_count": 10,
     "metadata": {},
     "output_type": "execute_result"
    }
   ],
   "source": [
    "type(im_test[0][0])"
   ]
  },
  {
   "cell_type": "code",
   "execution_count": null,
   "id": "7814d8d2",
   "metadata": {},
   "outputs": [],
   "source": []
  }
 ],
 "metadata": {
  "kernelspec": {
   "display_name": "Python 3 (ipykernel)",
   "language": "python",
   "name": "python3"
  },
  "language_info": {
   "codemirror_mode": {
    "name": "ipython",
    "version": 3
   },
   "file_extension": ".py",
   "mimetype": "text/x-python",
   "name": "python",
   "nbconvert_exporter": "python",
   "pygments_lexer": "ipython3",
   "version": "3.10.9"
  }
 },
 "nbformat": 4,
 "nbformat_minor": 5
}
