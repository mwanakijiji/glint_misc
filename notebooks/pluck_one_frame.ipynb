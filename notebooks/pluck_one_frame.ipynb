{
 "cells": [
  {
   "cell_type": "code",
   "execution_count": 11,
   "metadata": {},
   "outputs": [],
   "source": [
    "# Reads in a large VAMPIRES data cube, and saves the first slice as a separate frame\n",
    "\n",
    "import glob\n",
    "from astropy.io import fits\n",
    "import numpy as np\n",
    "import os"
   ]
  },
  {
   "cell_type": "code",
   "execution_count": 2,
   "metadata": {},
   "outputs": [],
   "source": [
    "stem = '/Volumes/One Touch/20240509_apapane_fake_seeing_spectra/'"
   ]
  },
  {
   "cell_type": "code",
   "execution_count": 12,
   "metadata": {},
   "outputs": [
    {
     "name": "stdout",
     "output_type": "stream",
     "text": [
      "Filename: /Volumes/One Touch/20240509_apapane_fake_seeing_spectra/apapane_06:52:56.490699698.fits\n",
      "No.    Name      Ver    Type      Cards   Dimensions   Format\n",
      "  0  PRIMARY       1 PrimaryHDU     415   (320, 256, 1000)   float32   \n"
     ]
    }
   ],
   "source": [
    "fits_files = glob.glob(stem + '*.fits')\n",
    "\n",
    "data = []\n",
    "for file_name in fits_files:\n",
    "    hdul = fits.open(file_name)\n",
    "\n",
    "    hdul.info()\n",
    "\n",
    "    image = hdul[0].data[0,:,:]\n",
    "\n",
    "    file_name_write = stem + 'single_slice_' + os.path.basename(file_name)\n",
    "    fits.writeto(file_name_write, image.astype(np.float32), overwrite=True)\n",
    "    print('Wrote',file_name_write)"
   ]
  }
 ],
 "metadata": {
  "kernelspec": {
   "display_name": "glint_env",
   "language": "python",
   "name": "python3"
  },
  "language_info": {
   "codemirror_mode": {
    "name": "ipython",
    "version": 3
   },
   "file_extension": ".py",
   "mimetype": "text/x-python",
   "name": "python",
   "nbconvert_exporter": "python",
   "pygments_lexer": "ipython3",
   "version": "3.10.9"
  }
 },
 "nbformat": 4,
 "nbformat_minor": 2
}
