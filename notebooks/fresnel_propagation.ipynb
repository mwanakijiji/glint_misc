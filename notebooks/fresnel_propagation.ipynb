{
 "cells": [
  {
   "cell_type": "code",
   "execution_count": 21,
   "id": "e098dcfa",
   "metadata": {},
   "outputs": [],
   "source": [
    "import poppy\n",
    "import copy\n",
    "import pickle\n",
    "import numpy as np\n",
    "import astropy.units as u\n",
    "import matplotlib.pyplot as plt\n",
    "from matplotlib.patches import Circle\n",
    "from skimage.transform import resize\n",
    "\n",
    "%matplotlib qt"
   ]
  },
  {
   "cell_type": "code",
   "execution_count": 13,
   "id": "1d60f0e7",
   "metadata": {},
   "outputs": [],
   "source": [
    "## BEGIN USER-DEFINED QUANTITIES\n",
    "\n",
    "f_lens = 185*u.micron # initial focal length of lens (um)\n",
    "\n",
    "# pixel scale of 'detector' (plane of waveguide entrance)\n",
    "scale_wg = 0.2161*u.micron/u.pix # um/pix\n",
    "\n",
    "diam_lenslet = 66.*u.micron # lenslet diameter (um)\n",
    "\n",
    "## END USER-DEFINED QUANTITIES"
   ]
  },
  {
   "cell_type": "code",
   "execution_count": 3,
   "id": "778f9a42",
   "metadata": {},
   "outputs": [
    {
     "name": "stdout",
     "output_type": "stream",
     "text": [
      "radius of first dark Airy ring (um): 5.346479783081552 micron\n"
     ]
    }
   ],
   "source": [
    "# radius of first dark ring in um\n",
    "wavel = (1.55/1.5255)*u.micron # um # 1.55 um in air, 1.55um/n = 1.55um/1.5255 = 1.016 um in substrate of index of refraction n\n",
    "foc_length = 284.664*u.micron # \n",
    "\n",
    "circ_r_um = 1.22 * wavel * foc_length/diam_lenslet\n",
    "#circ_r_pix = um2pix(circ_r_um)\n",
    "\n",
    "print('radius of first dark Airy ring (um):',circ_r_um)"
   ]
  },
  {
   "cell_type": "code",
   "execution_count": 4,
   "id": "738bce89",
   "metadata": {},
   "outputs": [],
   "source": [
    "# read in waveguide mode\n",
    "\n",
    "'''\n",
    "S. Gross:\n",
    "\n",
    "The waveguide modes have a 4sigma diameter of 8.3x7.6um. \n",
    "A simple Gaussian fit gives a 1/e2 diameter of 5.8x5.4um. \n",
    "Both at a wavelength of 1550nm.\n",
    "\n",
    "The attached CSV file contains the corresponding intensity profile. \n",
    "The scale is 0.2161um per pixel.\n",
    "'''\n",
    "\n",
    "# retrieve waveguide intensity and make cutout\n",
    "stem = '/Users/bandari/Documents/git.repos/glint_misc/notebooks/data/'\n",
    "open_file = open(stem + 'waveguide_intensity.pkl', \"rb\")\n",
    "df_intensity, xycen = pickle.load(open_file)\n",
    "open_file.close()\n",
    "# cutouts\n",
    "buffer = 100 # pix\n",
    "waveguide_cutout = df_intensity[int(xycen[1]-buffer):int(xycen[1]+buffer),int(xycen[0]-buffer):int(xycen[0]+buffer)]"
   ]
  },
  {
   "cell_type": "code",
   "execution_count": 14,
   "id": "9bfe89bd",
   "metadata": {},
   "outputs": [],
   "source": [
    "# physical dims of waveguide pattern\n",
    "\n",
    "x_dim_waveguide, y_dim_waveguide = np.multiply(np.shape(waveguide_cutout),scale_wg*u.pixel)"
   ]
  },
  {
   "cell_type": "code",
   "execution_count": 15,
   "id": "6bae15ae",
   "metadata": {},
   "outputs": [
    {
     "data": {
      "text/latex": [
       "$43.22 \\; \\mathrm{\\mu m}$"
      ],
      "text/plain": [
       "<Quantity 43.22 micron>"
      ]
     },
     "execution_count": 15,
     "metadata": {},
     "output_type": "execute_result"
    }
   ],
   "source": [
    "x_dim_waveguide"
   ]
  },
  {
   "cell_type": "code",
   "execution_count": 7,
   "id": "bbd7298a",
   "metadata": {},
   "outputs": [
    {
     "data": {
      "text/plain": [
       "(200, 200)"
      ]
     },
     "execution_count": 7,
     "metadata": {},
     "output_type": "execute_result"
    }
   ],
   "source": [
    "np.shape(waveguide_cutout)"
   ]
  },
  {
   "cell_type": "code",
   "execution_count": 16,
   "id": "ed39aac5",
   "metadata": {},
   "outputs": [
    {
     "data": {
      "text/plain": [
       "\"\\nwf.display('both', scale='log', \\n           vmax=wf.amplitude.max(), vmin=wf.amplitude.max()*1e-5, \\n           imagecrop=10.*circ_r_um)\\n\""
      ]
     },
     "execution_count": 16,
     "metadata": {},
     "output_type": "execute_result"
    }
   ],
   "source": [
    "# construct system with lens of focal length f um and project image\n",
    "\n",
    "npix = 1024 # ~512 is minimum to accurately recover the central diffraction spike\n",
    "\n",
    "wf = poppy.FresnelWavefront(beam_radius=0.5*diam_lenslet, wavelength=1.55e-6, npix=npix, oversample=4)\n",
    "wf *= poppy.CircularAperture(radius=0.5*diam_lenslet) \n",
    "\n",
    "conv_lens = poppy.QuadraticLens(f_lens=f_lens)\n",
    "wf *= conv_lens\n",
    "\n",
    "wf.propagate_fresnel(f_lens)\n",
    "\n",
    "wf_1 = copy.deepcopy(wf)\n",
    "\n",
    "# crop to the physical size of the waveguide cutout\n",
    "wf *= poppy.RectangleAperture(width=x_dim_waveguide, height=y_dim_waveguide)\n",
    "\n",
    "wf_2 = copy.deepcopy(wf)\n",
    "\n",
    "'''\n",
    "wf.display('both', scale='log', \n",
    "           vmax=wf.amplitude.max(), vmin=wf.amplitude.max()*1e-5, \n",
    "           imagecrop=10.*circ_r_um)\n",
    "'''"
   ]
  },
  {
   "cell_type": "code",
   "execution_count": 32,
   "id": "397b19d1",
   "metadata": {},
   "outputs": [],
   "source": [
    "plt.imshow(wf_1.amplitude-wf_2.amplitude, \n",
    "           norm='linear')\n",
    "plt.show()"
   ]
  },
  {
   "cell_type": "code",
   "execution_count": 40,
   "id": "65b93304",
   "metadata": {},
   "outputs": [
    {
     "data": {
      "text/plain": [
       "(4096, 4096)"
      ]
     },
     "execution_count": 40,
     "metadata": {},
     "output_type": "execute_result"
    }
   ],
   "source": [
    "np.shape(wf_2.amplitude)"
   ]
  },
  {
   "cell_type": "code",
   "execution_count": 17,
   "id": "9ba21e6c",
   "metadata": {},
   "outputs": [],
   "source": [
    "# physical scale of propagated wavefront compared to waveguide mode\n",
    "# (i.e., a scale > 1 means wavefront is coarser ('smaller') than the waveguide mode)\n",
    "\n",
    "scale_wf_2_wg = (wf_2.pixelscale.to(u.micron/u.pix))/scale_wg"
   ]
  },
  {
   "cell_type": "code",
   "execution_count": 23,
   "id": "205bff3f",
   "metadata": {},
   "outputs": [
    {
     "data": {
      "text/latex": [
       "$[20443.93,~20443.93] \\; \\mathrm{}$"
      ],
      "text/plain": [
       "<Quantity [20443.93038602, 20443.93038602]>"
      ]
     },
     "execution_count": 23,
     "metadata": {},
     "output_type": "execute_result"
    }
   ],
   "source": [
    "scale_wf_2_wg*np.shape(wf_2.amplitude)"
   ]
  },
  {
   "cell_type": "code",
   "execution_count": 26,
   "id": "f4644733",
   "metadata": {},
   "outputs": [],
   "source": [
    "# rescale wavefront by this much \n",
    "\n",
    "wf_amp_rescaled = resize(wf_2.amplitude,(10,10)) #scale_wf_2_wg*np.shape(wf_2.amplitude))"
   ]
  },
  {
   "cell_type": "code",
   "execution_count": 27,
   "id": "6eafcecb",
   "metadata": {},
   "outputs": [],
   "source": [
    "plt.imshow(wf_amp_rescaled)\n",
    "plt.show()"
   ]
  },
  {
   "cell_type": "code",
   "execution_count": 25,
   "id": "53c912e2",
   "metadata": {},
   "outputs": [
    {
     "data": {
      "text/latex": [
       "$[20443.93,~20443.93] \\; \\mathrm{}$"
      ],
      "text/plain": [
       "<Quantity [20443.93038602, 20443.93038602]>"
      ]
     },
     "execution_count": 25,
     "metadata": {},
     "output_type": "execute_result"
    }
   ],
   "source": [
    "scale_wf_2_wg*np.shape(wf_2.amplitude)"
   ]
  },
  {
   "cell_type": "code",
   "execution_count": 13,
   "id": "5fa682d8",
   "metadata": {},
   "outputs": [],
   "source": [
    "test = wf_2.amplitude[~np.all( wf_2.amplitude == 0, axis=1 )]\n"
   ]
  },
  {
   "cell_type": "code",
   "execution_count": 14,
   "id": "ebbf02e8",
   "metadata": {},
   "outputs": [
    {
     "data": {
      "text/plain": [
       "(41, 4096)"
      ]
     },
     "execution_count": 14,
     "metadata": {},
     "output_type": "execute_result"
    }
   ],
   "source": [
    "np.shape(test)"
   ]
  },
  {
   "cell_type": "code",
   "execution_count": 64,
   "id": "33335d74",
   "metadata": {},
   "outputs": [],
   "source": [
    "test2 = test[~np.all( test == 0, axis=1 )]"
   ]
  },
  {
   "cell_type": "code",
   "execution_count": null,
   "id": "e790da3a",
   "metadata": {},
   "outputs": [],
   "source": [
    "~np.all(OriginMat == 0, axis = 0)"
   ]
  },
  {
   "cell_type": "code",
   "execution_count": 66,
   "id": "84e18b01",
   "metadata": {},
   "outputs": [],
   "source": [
    "plt.imshow(test2)\n",
    "plt.show()"
   ]
  },
  {
   "cell_type": "code",
   "execution_count": null,
   "id": "7695b23c",
   "metadata": {},
   "outputs": [],
   "source": [
    "wf_2.display('amplitude', scale='log', \n",
    "           vmax=wf.amplitude.max(), vmin=wf.amplitude.max()*1e-5)"
   ]
  },
  {
   "cell_type": "code",
   "execution_count": 35,
   "id": "d6bc315f",
   "metadata": {},
   "outputs": [
    {
     "data": {
      "text/plain": [
       "array([[0., 0., 0., ..., 0., 0., 0.],\n",
       "       [0., 0., 0., ..., 0., 0., 0.],\n",
       "       [0., 0., 0., ..., 0., 0., 0.],\n",
       "       ...,\n",
       "       [0., 0., 0., ..., 0., 0., 0.],\n",
       "       [0., 0., 0., ..., 0., 0., 0.],\n",
       "       [0., 0., 0., ..., 0., 0., 0.]])"
      ]
     },
     "execution_count": 35,
     "metadata": {},
     "output_type": "execute_result"
    }
   ],
   "source": [
    "wf.amplitude"
   ]
  },
  {
   "cell_type": "code",
   "execution_count": null,
   "id": "0f1a3ca9",
   "metadata": {},
   "outputs": [],
   "source": [
    "# -----------------------------------------------------"
   ]
  },
  {
   "cell_type": "code",
   "execution_count": 46,
   "id": "81bdaec3",
   "metadata": {},
   "outputs": [],
   "source": [
    "# for secondary physical axes: 0.2161um per pixel.\n",
    "def pix2um(x):\n",
    "    return x*0.2161\n",
    "\n",
    "def um2pix(x):\n",
    "    return x/0.2161\n",
    "\n",
    "# radius of first dark ring in um\n",
    "wavel = 1.55/1.5255 # um # 1.55 um in air, 1.55um/n = 1.55um/1.5255 = 1.016 um in substrate of index of refraction n\n",
    "foc_length = 284.664 # \n",
    "D = 66 # um\n",
    "\n",
    "circ_r_um = 1.22 * wavel * foc_length/D\n",
    "circ_r_pix = um2pix(circ_r_um)"
   ]
  },
  {
   "cell_type": "code",
   "execution_count": 47,
   "id": "f7af2be2",
   "metadata": {},
   "outputs": [],
   "source": [
    "circ_cen_x = 0\n",
    "circ_cen_y = 0 \n",
    "circ1 = Circle((circ_cen_x,circ_cen_y),radius=circ_r_pix,color='white',fill=False)"
   ]
  },
  {
   "cell_type": "code",
   "execution_count": 48,
   "id": "5999ec95",
   "metadata": {},
   "outputs": [
    {
     "data": {
      "image/png": "[encoded data removed]",
      "text/plain": [
       "<Figure size 2000x1000 with 1 Axes>"
      ]
     },
     "metadata": {},
     "output_type": "display_data"
    }
   ],
   "source": [
    "buffer = 20\n",
    "\n",
    "fig, ax = plt.subplots(nrows=1, ncols=1, figsize=(20,10), layout='constrained')\n",
    "ax.imshow(wf.amplitude[int(0.5*np.shape(wf.amplitude)[0]-buffer):int(0.5*np.shape(wf.amplitude)[0]+buffer),\n",
    "                       int(0.5*np.shape(wf.amplitude)[0]-buffer):int(0.5*np.shape(wf.amplitude)[0]+buffer)], \n",
    "           norm='log', \n",
    "           vmax=wf.amplitude.max(), vmin=wf.amplitude.max()*1e-5)\n",
    "ax.add_patch(circ1)\n",
    "plt.show()"
   ]
  },
  {
   "cell_type": "code",
   "execution_count": 39,
   "id": "e21da388",
   "metadata": {},
   "outputs": [
    {
     "data": {
      "text/plain": [
       "1948"
      ]
     },
     "execution_count": 39,
     "metadata": {},
     "output_type": "execute_result"
    }
   ],
   "source": [
    "int(0.5*np.shape(wf.amplitude)[0]-buffer)"
   ]
  },
  {
   "cell_type": "code",
   "execution_count": null,
   "id": "a8c5fe48",
   "metadata": {},
   "outputs": [],
   "source": [
    "#circ3 = Circle((circ_cen_x,circ_cen_y),radius=circ_r_pix,color='white',fill=False)"
   ]
  },
  {
   "cell_type": "code",
   "execution_count": 3,
   "id": "941875ae",
   "metadata": {},
   "outputs": [
    {
     "ename": "NameError",
     "evalue": "name 'diam_lenslet' is not defined",
     "output_type": "error",
     "traceback": [
      "\u001b[0;31m---------------------------------------------------------------------------\u001b[0m",
      "\u001b[0;31mNameError\u001b[0m                                 Traceback (most recent call last)",
      "Cell \u001b[0;32mIn[3], line 5\u001b[0m\n\u001b[1;32m      2\u001b[0m osys_circ \u001b[38;5;241m=\u001b[39m poppy\u001b[38;5;241m.\u001b[39mOpticalSystem()\n\u001b[1;32m      4\u001b[0m \u001b[38;5;66;03m# lenslet\u001b[39;00m\n\u001b[0;32m----> 5\u001b[0m lens \u001b[38;5;241m=\u001b[39m osys_circ\u001b[38;5;241m.\u001b[39madd_pupil(optic \u001b[38;5;241m=\u001b[39m poppy\u001b[38;5;241m.\u001b[39mThinLens(name\u001b[38;5;241m=\u001b[39m\u001b[38;5;124m'\u001b[39m\u001b[38;5;124mlenslet\u001b[39m\u001b[38;5;124m'\u001b[39m, nwaves\u001b[38;5;241m=\u001b[39m\u001b[38;5;241m0\u001b[39m, radius\u001b[38;5;241m=\u001b[39m\u001b[43mdiam_lenslet\u001b[49m))\n\u001b[1;32m      7\u001b[0m \u001b[38;5;66;03m# final focal plane\u001b[39;00m\n\u001b[1;32m      8\u001b[0m det \u001b[38;5;241m=\u001b[39m osys_circ\u001b[38;5;241m.\u001b[39madd_detector(pixelscale\u001b[38;5;241m=\u001b[39mpixelscale_ang, fov_pixels\u001b[38;5;241m=\u001b[39m\u001b[38;5;241m100\u001b[39m)  \u001b[38;5;66;03m# image plane coordinates in arcseconds\u001b[39;00m\n",
      "\u001b[0;31mNameError\u001b[0m: name 'diam_lenslet' is not defined"
     ]
    }
   ],
   "source": [
    "# construct system\n",
    "osys_circ = poppy.OpticalSystem()\n",
    "\n",
    "# lenslet\n",
    "lens = osys_circ.add_pupil(optic = poppy.ThinLens(name='lenslet', nwaves=0, radius=diam_lenslet))\n",
    "\n",
    "# final focal plane\n",
    "det = osys_circ.add_detector(pixelscale=pixelscale_ang, fov_pixels=100)  # image plane coordinates in arcseconds\n",
    "#psf = osys_circ.calc_psf(wavelength=1.550*u.micron)\n",
    "\n",
    "# see transmittance\n",
    "#osys_circ.display()\n",
    "\n",
    "#poppy.display_psf(psf)\n",
    "\n",
    "psf, all_wfs = osys_circ.calc_psf(wavelength=1.550*u.micron, \n",
    "                         display_intermediates=False,\n",
    "                         return_intermediates=True)"
   ]
  },
  {
   "cell_type": "code",
   "execution_count": null,
   "id": "d5ca3f08",
   "metadata": {},
   "outputs": [],
   "source": []
  }
 ],
 "metadata": {
  "kernelspec": {
   "display_name": "Python 3 (ipykernel)",
   "language": "python",
   "name": "python3"
  },
  "language_info": {
   "codemirror_mode": {
    "name": "ipython",
    "version": 3
   },
   "file_extension": ".py",
   "mimetype": "text/x-python",
   "name": "python",
   "nbconvert_exporter": "python",
   "pygments_lexer": "ipython3",
   "version": "3.10.9"
  }
 },
 "nbformat": 4,
 "nbformat_minor": 5
}
